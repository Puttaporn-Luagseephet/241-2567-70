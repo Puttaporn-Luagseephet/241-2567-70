{
  "nbformat": 4,
  "nbformat_minor": 0,
  "metadata": {
    "colab": {
      "provenance": [],
      "authorship_tag": "ABX9TyOlDp/m/l+5G5N3rn3Hk8TU",
      "include_colab_link": true
    },
    "kernelspec": {
      "name": "python3",
      "display_name": "Python 3"
    },
    "language_info": {
      "name": "python"
    }
  },
  "cells": [
    {
      "cell_type": "markdown",
      "metadata": {
        "id": "view-in-github",
        "colab_type": "text"
      },
      "source": [
        "<a href=\"https://colab.research.google.com/github/Puttaporn-Luagseephet/241-2567-70/blob/main/Colab.ipynb\" target=\"_parent\"><img src=\"https://colab.research.google.com/assets/colab-badge.svg\" alt=\"Open In Colab\"/></a>"
      ]
    },
    {
      "cell_type": "code",
      "execution_count": null,
      "metadata": {
        "colab": {
          "base_uri": "https://localhost:8080/"
        },
        "id": "dyBtqLQ3-0g5",
        "outputId": "6ad9ddf6-8f22-4c3b-884d-ad4834146052"
      },
      "outputs": [
        {
          "output_type": "stream",
          "name": "stdout",
          "text": [
            "Hello Workd!\n"
          ]
        }
      ],
      "source": [
        "print(\"Hello Workd!\")"
      ]
    },
    {
      "cell_type": "code",
      "source": [
        "print('single quote')"
      ],
      "metadata": {
        "colab": {
          "base_uri": "https://localhost:8080/"
        },
        "id": "HO6aOCKX_mnh",
        "outputId": "85a0b074-e297-4166-de1c-d1ef240b833c"
      },
      "execution_count": null,
      "outputs": [
        {
          "output_type": "stream",
          "name": "stdout",
          "text": [
            "single quote\n"
          ]
        }
      ]
    },
    {
      "cell_type": "code",
      "source": [
        "print(\"hello\" + \"world\")\n",
        "print(\"hello\" +\" \" +\"world\")\n",
        "print(\"hello\",\"world\",\"!\",\"R2DE\")"
      ],
      "metadata": {
        "colab": {
          "base_uri": "https://localhost:8080/"
        },
        "id": "VBr1hoWrAJnU",
        "outputId": "b02285a1-8e0a-46ce-b44e-8bca9871321e"
      },
      "execution_count": null,
      "outputs": [
        {
          "output_type": "stream",
          "name": "stdout",
          "text": [
            "helloworld\n",
            "hello world\n",
            "hello world ! R2DE\n"
          ]
        }
      ]
    },
    {
      "cell_type": "markdown",
      "source": [
        "การประกาศตัวแปร คือ การตั้งชื่ออ้างอิง\n",
        "ชื่อตัวแปร =\"ค่าที่ต้องการจัดเก็บ\"\n",
        "\n",
        "int(integer)เป็นข้อมูลจำนวนเต็ม"
      ],
      "metadata": {
        "id": "804XtsB4BDUJ"
      }
    },
    {
      "cell_type": "code",
      "source": [
        "# int\n",
        "a = 1\n",
        "a"
      ],
      "metadata": {
        "colab": {
          "base_uri": "https://localhost:8080/"
        },
        "id": "0kePBXLbB495",
        "outputId": "b331f9d1-13aa-49a8-eec9-ffbefdea3852"
      },
      "execution_count": null,
      "outputs": [
        {
          "output_type": "execute_result",
          "data": {
            "text/plain": [
              "1"
            ]
          },
          "metadata": {},
          "execution_count": 5
        }
      ]
    },
    {
      "cell_type": "markdown",
      "source": [
        "การใช้ Comment ในโค้ด"
      ],
      "metadata": {
        "id": "gXIuy1V-CBXE"
      }
    },
    {
      "cell_type": "code",
      "source": [
        "#This is commemt\n",
        "#print(\"hello\")\n",
        "#สิ่งที่อยู่หลังเครื่องหมาย # เรียกว่า comment\n",
        "#คือPython จะไม่สนใจ comment ในcode"
      ],
      "metadata": {
        "id": "oiZP7nlyCKj2"
      },
      "execution_count": null,
      "outputs": []
    },
    {
      "cell_type": "markdown",
      "source": [
        "เราสามารถแปลงข้อมูลจาก int ที่เป็นจำนวนเต็ม เป็นประเภทอื่นได้ เช่น float หรือจำนวนจริงได้ด้วยคำสั่ง float(ตัวแปร)"
      ],
      "metadata": {
        "id": "GfPmAQOQCyNd"
      }
    },
    {
      "cell_type": "markdown",
      "source": [
        "float เป็นข้อมูลประเภทจำนวนจริงที่มีจุดทศนิยม"
      ],
      "metadata": {
        "id": "n18K1CqnAqYS"
      }
    },
    {
      "cell_type": "code",
      "source": [
        "# Float\n",
        "float(a)"
      ],
      "metadata": {
        "id": "k0bMJwz0C0n0",
        "colab": {
          "base_uri": "https://localhost:8080/"
        },
        "outputId": "c11c6d18-eec2-4788-94bd-4b640b20a345"
      },
      "execution_count": null,
      "outputs": [
        {
          "output_type": "execute_result",
          "data": {
            "text/plain": [
              "1.0"
            ]
          },
          "metadata": {},
          "execution_count": 6
        }
      ]
    },
    {
      "cell_type": "markdown",
      "source": [
        "str(String) เป็นข้อมูลประเภท\"ข้อความ\"\n",
        "สามารถแปลงตัวเลขให้เป็นข้อความได้ด้วย str(ตัวแปร)"
      ],
      "metadata": {
        "id": "AXgP2qdyDBMQ"
      }
    },
    {
      "cell_type": "code",
      "source": [
        "# String\n",
        "str(a)\n",
        "print(1+2+3)"
      ],
      "metadata": {
        "colab": {
          "base_uri": "https://localhost:8080/"
        },
        "id": "lvvH3Ms2DFp1",
        "outputId": "342281d2-2374-47a8-f9f0-a42ebc5bfbda"
      },
      "execution_count": null,
      "outputs": [
        {
          "output_type": "stream",
          "name": "stdout",
          "text": [
            "6\n"
          ]
        }
      ]
    },
    {
      "cell_type": "markdown",
      "source": [
        "การบวก string คือการนำ string สองอันมาต่อกัน(append)"
      ],
      "metadata": {
        "id": "21ylaGM0B0pO"
      }
    },
    {
      "cell_type": "code",
      "source": [
        "str(a) +\"1\""
      ],
      "metadata": {
        "colab": {
          "base_uri": "https://localhost:8080/",
          "height": 35
        },
        "id": "t6RvVv7sCRXh",
        "outputId": "cc8a99fe-23d7-463b-f6ac-732bdce88312"
      },
      "execution_count": null,
      "outputs": [
        {
          "output_type": "execute_result",
          "data": {
            "text/plain": [
              "'11'"
            ],
            "application/vnd.google.colaboratory.intrinsic+json": {
              "type": "string"
            }
          },
          "metadata": {},
          "execution_count": 8
        }
      ]
    },
    {
      "cell_type": "code",
      "source": [
        "print(1+2+3)"
      ],
      "metadata": {
        "colab": {
          "base_uri": "https://localhost:8080/"
        },
        "id": "tI4ceaqJCVhY",
        "outputId": "e99bbb19-7f1e-45f3-eea0-1d583404514c"
      },
      "execution_count": null,
      "outputs": [
        {
          "output_type": "stream",
          "name": "stdout",
          "text": [
            "6\n"
          ]
        }
      ]
    },
    {
      "cell_type": "markdown",
      "source": [
        "bool (Boolean) เป็นข้อมูลประเภทค่าความจริง True / False\n",
        "ถ้าตัวแปรที่แปลงไม่ว่างเปล่าจะได้ค่า True"
      ],
      "metadata": {
        "id": "BLbM2mHUDh_U"
      }
    },
    {
      "cell_type": "code",
      "source": [
        "a"
      ],
      "metadata": {
        "id": "AToFO10YDjue",
        "colab": {
          "base_uri": "https://localhost:8080/"
        },
        "outputId": "29950a7d-ee0f-43cc-8fcf-69c91086bc87"
      },
      "execution_count": null,
      "outputs": [
        {
          "output_type": "execute_result",
          "data": {
            "text/plain": [
              "1"
            ]
          },
          "metadata": {},
          "execution_count": 10
        }
      ]
    },
    {
      "cell_type": "code",
      "source": [
        "bool(a)"
      ],
      "metadata": {
        "colab": {
          "base_uri": "https://localhost:8080/"
        },
        "id": "P-RR6U42DCGG",
        "outputId": "8787cfba-5d3d-46ae-b51d-24579c001ad9"
      },
      "execution_count": null,
      "outputs": [
        {
          "output_type": "execute_result",
          "data": {
            "text/plain": [
              "True"
            ]
          },
          "metadata": {},
          "execution_count": 101
        }
      ]
    },
    {
      "cell_type": "code",
      "source": [
        "bool(0)"
      ],
      "metadata": {
        "colab": {
          "base_uri": "https://localhost:8080/"
        },
        "id": "3UsZUkDCDKSE",
        "outputId": "6215adb6-6182-4e1f-9efc-ac547d8083af"
      },
      "execution_count": null,
      "outputs": [
        {
          "output_type": "execute_result",
          "data": {
            "text/plain": [
              "False"
            ]
          },
          "metadata": {},
          "execution_count": 12
        }
      ]
    },
    {
      "cell_type": "code",
      "source": [
        "bool(None)"
      ],
      "metadata": {
        "colab": {
          "base_uri": "https://localhost:8080/"
        },
        "id": "utNN9UYCDQI1",
        "outputId": "201ce13c-107b-48f6-fb09-2040e17673c1"
      },
      "execution_count": null,
      "outputs": [
        {
          "output_type": "execute_result",
          "data": {
            "text/plain": [
              "False"
            ]
          },
          "metadata": {},
          "execution_count": 13
        }
      ]
    },
    {
      "cell_type": "markdown",
      "source": [
        "คำสั่ง type() เป็นคำสั่งไว้ใช้ตรวจสอบประเภทตัวแปรว่าเป็นประเภทอะไร"
      ],
      "metadata": {
        "id": "Jz35w-qSD7K7"
      }
    },
    {
      "cell_type": "code",
      "source": [
        "type(a)"
      ],
      "metadata": {
        "id": "UCedlr9WEI1m",
        "colab": {
          "base_uri": "https://localhost:8080/"
        },
        "outputId": "c1458c11-d1f7-442d-ae3b-c98593101624"
      },
      "execution_count": null,
      "outputs": [
        {
          "output_type": "execute_result",
          "data": {
            "text/plain": [
              "int"
            ]
          },
          "metadata": {},
          "execution_count": 14
        }
      ]
    },
    {
      "cell_type": "code",
      "source": [
        "b = \"Python!\"\n",
        "b"
      ],
      "metadata": {
        "colab": {
          "base_uri": "https://localhost:8080/",
          "height": 35
        },
        "id": "j_wrx_YYDvN4",
        "outputId": "66ddb73d-0764-4bf2-d132-0763e354a7ee"
      },
      "execution_count": null,
      "outputs": [
        {
          "output_type": "execute_result",
          "data": {
            "text/plain": [
              "'Python!'"
            ],
            "application/vnd.google.colaboratory.intrinsic+json": {
              "type": "string"
            }
          },
          "metadata": {},
          "execution_count": 15
        }
      ]
    },
    {
      "cell_type": "markdown",
      "source": [
        "ถ้าไม่สามารถแปลงประเภทตัวแปรได้ จะขึ้นว่า ValueError\n",
        "เช่น ไม่สามารถแปลง string ที่มีข้อความ ตัวอักษร เป็น int หรือ float ได้"
      ],
      "metadata": {
        "id": "byXREZQdD-OX"
      }
    },
    {
      "cell_type": "code",
      "source": [
        "int(b)"
      ],
      "metadata": {
        "colab": {
          "base_uri": "https://localhost:8080/",
          "height": 141
        },
        "id": "imIz2JZmEnin",
        "outputId": "750e7f4d-9f8d-4621-992e-09e5c0ade5c4"
      },
      "execution_count": null,
      "outputs": [
        {
          "output_type": "error",
          "ename": "ValueError",
          "evalue": "invalid literal for int() with base 10: 'P'",
          "traceback": [
            "\u001b[0;31m---------------------------------------------------------------------------\u001b[0m",
            "\u001b[0;31mValueError\u001b[0m                                Traceback (most recent call last)",
            "\u001b[0;32m<ipython-input-104-150136f8ab73>\u001b[0m in \u001b[0;36m<cell line: 0>\u001b[0;34m()\u001b[0m\n\u001b[0;32m----> 1\u001b[0;31m \u001b[0mint\u001b[0m\u001b[0;34m(\u001b[0m\u001b[0mb\u001b[0m\u001b[0;34m[\u001b[0m\u001b[0;36m0\u001b[0m\u001b[0;34m]\u001b[0m\u001b[0;34m)\u001b[0m\u001b[0;34m\u001b[0m\u001b[0;34m\u001b[0m\u001b[0m\n\u001b[0m",
            "\u001b[0;31mValueError\u001b[0m: invalid literal for int() with base 10: 'P'"
          ]
        }
      ]
    },
    {
      "cell_type": "markdown",
      "source": [
        "# Python Data Structures\n",
        "โครงสร้าวข้อมูลที่ควรรู้จัก\n",
        "# List\n",
        " เป็น data structure ที่ไว้เก็บข้อมูลเป็นลำดับเหมือน array คือ จะเก็บข้อมูลไว้เป็นช่อง โดยจะมี index(หมายเลขประจำช่อง)เริ่มต้นที่ 0 และสามารถเพิ่มเติม (append) หรือแก้ไขข้อมูลใน list ได้ (mutable) ใช้สัญลักษณ์[] แทน list"
      ],
      "metadata": {
        "id": "7ppfyb0-EkCx"
      }
    },
    {
      "cell_type": "code",
      "source": [
        "#ทบทวนตัวแปร\n",
        "print(a,type(a))\n",
        "print(b,type(b))"
      ],
      "metadata": {
        "colab": {
          "base_uri": "https://localhost:8080/"
        },
        "id": "5dQ-5wp4E4Cv",
        "outputId": "28842f5d-5b15-4f95-e06c-16aa5f6cc6b9"
      },
      "execution_count": null,
      "outputs": [
        {
          "output_type": "stream",
          "name": "stdout",
          "text": [
            "1 <class 'int'>\n",
            "Python! <class 'str'>\n"
          ]
        }
      ]
    },
    {
      "cell_type": "markdown",
      "source": [
        "การสร้าง list สร้างโดยใช้เครื่องหมาย []"
      ],
      "metadata": {
        "id": "WILL9VgAFZ2g"
      }
    },
    {
      "cell_type": "code",
      "source": [
        "empty_list = []\n",
        "print(empty_list)"
      ],
      "metadata": {
        "colab": {
          "base_uri": "https://localhost:8080/"
        },
        "id": "rOHeyBcoGM1r",
        "outputId": "22ea1de2-e87c-4f58-8ecd-cec7f0d44d31"
      },
      "execution_count": null,
      "outputs": [
        {
          "output_type": "stream",
          "name": "stdout",
          "text": [
            "[]\n"
          ]
        }
      ]
    },
    {
      "cell_type": "markdown",
      "source": [
        "การสร้าง list จากตัวแปรที่สร้างขึ้น"
      ],
      "metadata": {
        "id": "qVq8-srcGcjX"
      }
    },
    {
      "cell_type": "code",
      "source": [
        "l = [b, a, a + 1, a + 2]\n",
        "l"
      ],
      "metadata": {
        "colab": {
          "base_uri": "https://localhost:8080/"
        },
        "id": "AO0ylHQ1Fhml",
        "outputId": "a0544b4b-cd8a-453d-b2ac-a72b34d306e4"
      },
      "execution_count": null,
      "outputs": [
        {
          "output_type": "execute_result",
          "data": {
            "text/plain": [
              "['Python!', 1, 2, 3]"
            ]
          },
          "metadata": {},
          "execution_count": 22
        }
      ]
    },
    {
      "cell_type": "markdown",
      "source": [
        "การดูจำนวนสมาชิก (length) ของ list"
      ],
      "metadata": {
        "id": "x0ClHgqkF0j1"
      }
    },
    {
      "cell_type": "code",
      "source": [
        "len(l)"
      ],
      "metadata": {
        "colab": {
          "base_uri": "https://localhost:8080/"
        },
        "id": "Dap_YxrBF-Oo",
        "outputId": "9a2c2744-6331-493f-a4ad-a5c1dc08cbd2"
      },
      "execution_count": null,
      "outputs": [
        {
          "output_type": "execute_result",
          "data": {
            "text/plain": [
              "4"
            ]
          },
          "metadata": {},
          "execution_count": 23
        }
      ]
    },
    {
      "cell_type": "markdown",
      "source": [
        "การเปลี่ยนแปลง (assign)ค่าในสมาชิกของ list"
      ],
      "metadata": {
        "id": "vNEwd2ILGO73"
      }
    },
    {
      "cell_type": "code",
      "source": [
        "l[3] = 5\n",
        "l"
      ],
      "metadata": {
        "colab": {
          "base_uri": "https://localhost:8080/"
        },
        "id": "7QdhYHeHGSeZ",
        "outputId": "dc28413b-d459-4138-adc7-ba2bcdff54bc"
      },
      "execution_count": null,
      "outputs": [
        {
          "output_type": "execute_result",
          "data": {
            "text/plain": [
              "['Python!', 1, 2, 5]"
            ]
          },
          "metadata": {},
          "execution_count": 24
        }
      ]
    },
    {
      "cell_type": "markdown",
      "source": [
        "ถ้าพยายามจะเปลี่ยนแปลงข้อมูล โดยที่ index(เลขที่ใช้อ้างอิงลำดับ :)มีค่ามากกว่า"
      ],
      "metadata": {
        "id": "ZXCljh6rGdXC"
      }
    },
    {
      "cell_type": "code",
      "source": [
        "# IndexError\n",
        "l[4] = \":)\""
      ],
      "metadata": {
        "id": "sbLvxODFGkaR"
      },
      "execution_count": null,
      "outputs": []
    },
    {
      "cell_type": "markdown",
      "source": [
        "ลองดูการเปลี่ยนแปลงของ list"
      ],
      "metadata": {
        "id": "unfDsD36GzoE"
      }
    },
    {
      "cell_type": "code",
      "source": [
        "['Python!',1,2,5]"
      ],
      "metadata": {
        "id": "8hkeoM9nG6-8",
        "colab": {
          "base_uri": "https://localhost:8080/"
        },
        "outputId": "2f00b6b7-826e-48e2-c360-259baf2b11b4"
      },
      "execution_count": null,
      "outputs": [
        {
          "output_type": "execute_result",
          "data": {
            "text/plain": [
              "['Python!', 1, 2, 5]"
            ]
          },
          "metadata": {},
          "execution_count": 108
        }
      ]
    },
    {
      "cell_type": "markdown",
      "source": [
        "การเพิ่มสมาชิกของ list ต่อท้ายใช้คำสั่ง append"
      ],
      "metadata": {
        "id": "nNWazNvNHCTy"
      }
    },
    {
      "cell_type": "code",
      "source": [
        "l.append(\":)\")\n",
        "l"
      ],
      "metadata": {
        "id": "gDVdV5P8HFLe",
        "colab": {
          "base_uri": "https://localhost:8080/"
        },
        "outputId": "07024ace-4c16-4887-baa6-38e5dbacda78"
      },
      "execution_count": null,
      "outputs": [
        {
          "output_type": "execute_result",
          "data": {
            "text/plain": [
              "['Python!', 1, 2, 5, ':)', ':)']"
            ]
          },
          "metadata": {},
          "execution_count": 109
        }
      ]
    },
    {
      "cell_type": "markdown",
      "source": [
        "คำสั่ง pop() คือการ remove สมาชิกตัวสุดท้ายของ list"
      ],
      "metadata": {
        "id": "UmltVFnqHR-a"
      }
    },
    {
      "cell_type": "code",
      "source": [
        "l.pop()\n",
        "l"
      ],
      "metadata": {
        "id": "dB5BblfLHoRJ",
        "colab": {
          "base_uri": "https://localhost:8080/"
        },
        "outputId": "db76b178-ee4a-466c-cdda-9198d8a7775b"
      },
      "execution_count": null,
      "outputs": [
        {
          "output_type": "execute_result",
          "data": {
            "text/plain": [
              "['Python!', 1, 2, 5, ':)']"
            ]
          },
          "metadata": {},
          "execution_count": 33
        }
      ]
    },
    {
      "cell_type": "markdown",
      "source": [
        "# Tuple\n",
        "\n",
        "Tuple เป็น data structure ที่ไว้เก็บข้อมูลเป็นลำดับ(คล้ายกับ list)โดยจะมี index เริ่มต้นที่ 0  เช่นกัน แต่*ไม่สามารถแก้ไข เปลี่ยนแปลงข้อมูลได้(immutable)* ใช้สัญลักษณ์() แทน tuple ในการสร้าง"
      ],
      "metadata": {
        "id": "_gxEwKFWH3DA"
      }
    },
    {
      "cell_type": "code",
      "source": [
        "t = (0, 1, 2, 3, 4)"
      ],
      "metadata": {
        "id": "XbD1AmagH42b"
      },
      "execution_count": null,
      "outputs": []
    },
    {
      "cell_type": "code",
      "source": [
        "len(t)"
      ],
      "metadata": {
        "id": "xsfAwDhCIFTp",
        "colab": {
          "base_uri": "https://localhost:8080/"
        },
        "outputId": "ccd39174-6670-4b48-fd6a-2704b9d37477"
      },
      "execution_count": null,
      "outputs": [
        {
          "output_type": "execute_result",
          "data": {
            "text/plain": [
              "5"
            ]
          },
          "metadata": {},
          "execution_count": 35
        }
      ]
    },
    {
      "cell_type": "code",
      "source": [
        "t[0:3]"
      ],
      "metadata": {
        "id": "UDlpMCovIKzd",
        "colab": {
          "base_uri": "https://localhost:8080/"
        },
        "outputId": "472826b6-e66b-4f2b-e185-cf60665afcac"
      },
      "execution_count": null,
      "outputs": [
        {
          "output_type": "execute_result",
          "data": {
            "text/plain": [
              "(0, 1, 2)"
            ]
          },
          "metadata": {},
          "execution_count": 36
        }
      ]
    },
    {
      "cell_type": "markdown",
      "source": [
        "# การใช้เลข index (สำหรับ list, tuple และ string)\n",
        "ใน list, tuple, string สามารถใช้เลข index เพื่อเข้าถึงสมาชิกได้ โดย index จะเริ่มจาก 0 และถึง len()-1 สามารถอ้างอิงเป็นช่วง ได้ด้วยเครื่องหมาย : (colon) โดยช่วงจะเริ่มจาก index ตัวแรก ถึง index ตัวสุดท้ายในช่วง -1 (ถ้าเว้นไว้คือถึงตัวสุดท้าย) และสามารถใช้เลข index ติดลบแทนการบับจากด้านหลังได้"
      ],
      "metadata": {
        "id": "8rrZy00nIPuz"
      }
    },
    {
      "cell_type": "markdown",
      "source": [
        "การเข้าถึง ข้อมูลตัวสุดท้ายของ tuple"
      ],
      "metadata": {
        "id": "qYzwVLtLIz_w"
      }
    },
    {
      "cell_type": "code",
      "source": [
        "t[-1]"
      ],
      "metadata": {
        "id": "xJ0dQKl2ITUh",
        "colab": {
          "base_uri": "https://localhost:8080/"
        },
        "outputId": "c128c1e3-5fef-4bf4-b3df-fc691972bee2"
      },
      "execution_count": null,
      "outputs": [
        {
          "output_type": "execute_result",
          "data": {
            "text/plain": [
              "4"
            ]
          },
          "metadata": {},
          "execution_count": 37
        }
      ]
    },
    {
      "cell_type": "markdown",
      "source": [
        "การเข้าถึงข้อมูล ตัวที่สาม จากตัวสุดท้าย จนถึงตัวสุกท้าย"
      ],
      "metadata": {
        "id": "_sg-R4qCIeeD"
      }
    },
    {
      "cell_type": "code",
      "source": [
        "t[-3:]"
      ],
      "metadata": {
        "id": "FuW9tqzGIqd_",
        "colab": {
          "base_uri": "https://localhost:8080/"
        },
        "outputId": "aae3c8bc-cb1a-474b-c6f0-908e587eb1f6"
      },
      "execution_count": null,
      "outputs": [
        {
          "output_type": "execute_result",
          "data": {
            "text/plain": [
              "(2, 3, 4)"
            ]
          },
          "metadata": {},
          "execution_count": 38
        }
      ]
    },
    {
      "cell_type": "markdown",
      "source": [
        "Tuple เป็น data structure แบบ immutable คือ ไม่สามารถเปลี่ยนแปลงค่าได้ ถ้าพยายามเปลี่ยนค่าของ tuple จะได้ TypeError"
      ],
      "metadata": {
        "id": "5axYXoQ2MX_L"
      }
    },
    {
      "cell_type": "code",
      "source": [
        "# TypeError ไม่สามารถแก้ไข tuple ได้\n",
        "t[4] = 5"
      ],
      "metadata": {
        "colab": {
          "base_uri": "https://localhost:8080/",
          "height": 158
        },
        "id": "5q509dc0M9-3",
        "outputId": "828e5438-24fe-4438-a516-16693750d0f7"
      },
      "execution_count": null,
      "outputs": [
        {
          "output_type": "error",
          "ename": "TypeError",
          "evalue": "'tuple' object does not support item assignment",
          "traceback": [
            "\u001b[0;31m---------------------------------------------------------------------------\u001b[0m",
            "\u001b[0;31mTypeError\u001b[0m                                 Traceback (most recent call last)",
            "\u001b[0;32m<ipython-input-41-02e20aa8d645>\u001b[0m in \u001b[0;36m<cell line: 0>\u001b[0;34m()\u001b[0m\n\u001b[1;32m      1\u001b[0m \u001b[0;31m# TypeError ไม่สามารถแก้ไข tuple ได้\u001b[0m\u001b[0;34m\u001b[0m\u001b[0;34m\u001b[0m\u001b[0m\n\u001b[0;32m----> 2\u001b[0;31m \u001b[0mt\u001b[0m\u001b[0;34m[\u001b[0m\u001b[0;36m4\u001b[0m\u001b[0;34m]\u001b[0m \u001b[0;34m=\u001b[0m \u001b[0;36m5\u001b[0m\u001b[0;34m\u001b[0m\u001b[0;34m\u001b[0m\u001b[0m\n\u001b[0m",
            "\u001b[0;31mTypeError\u001b[0m: 'tuple' object does not support item assignment"
          ]
        }
      ]
    },
    {
      "cell_type": "markdown",
      "source": [
        "# Dictionary\n",
        "Dictionary เป็น data structure ที่เก็บไว้ในลักษณะ key-value ใช้สัญลักษณ์{} แทน dictionary ในการสร้าง เช่น\n",
        "dict = {\"key\" : \"value\"} หรือ\n",
        "dict = {} เพื่อสร้าง dict\n",
        "\n",
        "การสร้าง grade dictionary สำหรับการตัดเกรด"
      ],
      "metadata": {
        "id": "DkYp5R05JK8H"
      }
    },
    {
      "cell_type": "code",
      "source": [
        "I'm grade = {\n",
        "    \"A\" : 80,\n",
        "    \"B\" : 70,\n",
        "    \"C\" : 60,\n",
        "    \"D\" : 50\n",
        "}\n",
        "grade"
      ],
      "metadata": {
        "colab": {
          "base_uri": "https://localhost:8080/"
        },
        "id": "oe-Wj1_qJPhV",
        "outputId": "932ab2f7-9aaa-416a-c2af-0e45b4fd243f"
      },
      "execution_count": null,
      "outputs": [
        {
          "output_type": "execute_result",
          "data": {
            "text/plain": [
              "{'A': 80, 'B': 70, 'C': 60, 'D': 50}"
            ]
          },
          "metadata": {},
          "execution_count": 42
        }
      ]
    },
    {
      "cell_type": "code",
      "source": [
        "grade[\"A\"]"
      ],
      "metadata": {
        "colab": {
          "base_uri": "https://localhost:8080/"
        },
        "id": "azMiWsNyJ1h5",
        "outputId": "bff75caa-1997-4056-c200-a3072959a42d"
      },
      "execution_count": null,
      "outputs": [
        {
          "output_type": "execute_result",
          "data": {
            "text/plain": [
              "80"
            ]
          },
          "metadata": {},
          "execution_count": 43
        }
      ]
    },
    {
      "cell_type": "code",
      "source": [
        "grade[\"B+\"] = 75\n",
        "grade"
      ],
      "metadata": {
        "colab": {
          "base_uri": "https://localhost:8080/"
        },
        "id": "Nl_rlRZQJ7gS",
        "outputId": "12d4778c-1b00-4f5b-b4f9-23f82a5f2e8f"
      },
      "execution_count": null,
      "outputs": [
        {
          "output_type": "execute_result",
          "data": {
            "text/plain": [
              "{'A': 80, 'B': 70, 'C': 60, 'D': 50, 'B+': 75}"
            ]
          },
          "metadata": {},
          "execution_count": 44
        }
      ]
    },
    {
      "cell_type": "markdown",
      "source": [
        "การสร้าง dictionary ว่าง และเพิ่มหรืออัปเดตค่า key-value"
      ],
      "metadata": {
        "id": "Phs7Oo3jKIWj"
      }
    },
    {
      "cell_type": "code",
      "source": [
        "d = {}\n",
        "d[\"s001\"] = \"Perth\"\n",
        "d[\"s002\"] = \"Fon\""
      ],
      "metadata": {
        "id": "Q2rHt9K2KOVF"
      },
      "execution_count": null,
      "outputs": []
    },
    {
      "cell_type": "code",
      "source": [
        "d[\"s001\"]"
      ],
      "metadata": {
        "colab": {
          "base_uri": "https://localhost:8080/",
          "height": 35
        },
        "id": "-1NXZ-ARPx4R",
        "outputId": "28f6b8b0-09d3-4290-988e-9834b1c10c25"
      },
      "execution_count": null,
      "outputs": [
        {
          "output_type": "execute_result",
          "data": {
            "text/plain": [
              "'Perth'"
            ],
            "application/vnd.google.colaboratory.intrinsic+json": {
              "type": "string"
            }
          },
          "metadata": {},
          "execution_count": 44
        }
      ]
    },
    {
      "cell_type": "markdown",
      "source": [
        "# Python String\n",
        "String สำหรับเก็บตัวแปรประเภทข้อความ สามารถเข้าถึงด้วย index ได้เหมือนกับ list สามารถต่อเชื่อม string หลาย ๆ string ด้วย เครื่องหมาย + หรือ join() ในกรณีที่เป็น list และมีฟังก์ชันอื่น ๆ ที่เกี่ยวกับ string อีกมากมาย เช่น\n",
        "\n",
        "\n",
        "*   split() การแยก string ด้วย symbol ผลลัพธ์ของการรันจะออกมาเป็น list\n",
        "*   strip() การลบช่องว่างที่อยู่หน้าหรือหลังสุด\n",
        "\n"
      ],
      "metadata": {
        "id": "ARqvRrhOKfDM"
      }
    },
    {
      "cell_type": "code",
      "source": [
        "sentence = \"Hello Python. I am ready\""
      ],
      "metadata": {
        "id": "igrUUr1aKlSG"
      },
      "execution_count": null,
      "outputs": []
    },
    {
      "cell_type": "markdown",
      "source": [
        "String จะคล้ายคลึงกับ list ตรงที่สามารถ ดูค่าตาม index ที่ระบุตำแหน่งนั้นได้"
      ],
      "metadata": {
        "id": "ugXx9PXCK5pw"
      }
    },
    {
      "cell_type": "code",
      "source": [
        "sentence[1]"
      ],
      "metadata": {
        "id": "_U0rwROnLDD2",
        "colab": {
          "base_uri": "https://localhost:8080/",
          "height": 35
        },
        "outputId": "15a68bea-6613-4526-8d02-852bff2f7cda"
      },
      "execution_count": null,
      "outputs": [
        {
          "output_type": "execute_result",
          "data": {
            "text/plain": [
              "'e'"
            ],
            "application/vnd.google.colaboratory.intrinsic+json": {
              "type": "string"
            }
          },
          "metadata": {},
          "execution_count": 47
        }
      ]
    },
    {
      "cell_type": "markdown",
      "source": [
        "การตัดบางช่วงของ String โดยใช้เครื่องหมาย : ควบคู่กับ index ดังนี้ เริ่มต้น : ตัวสุดท้าย +1"
      ],
      "metadata": {
        "id": "fTyfxFzELJUv"
      }
    },
    {
      "cell_type": "code",
      "source": [
        "sentence[1:13]"
      ],
      "metadata": {
        "id": "UCXTxOCILR2N",
        "colab": {
          "base_uri": "https://localhost:8080/",
          "height": 35
        },
        "outputId": "7acaa0fe-b596-4546-d54a-035e4cdcae72"
      },
      "execution_count": null,
      "outputs": [
        {
          "output_type": "execute_result",
          "data": {
            "text/plain": [
              "'ello Python.'"
            ],
            "application/vnd.google.colaboratory.intrinsic+json": {
              "type": "string"
            }
          },
          "metadata": {},
          "execution_count": 48
        }
      ]
    },
    {
      "cell_type": "markdown",
      "source": [
        "strip คือการลบช่องว่าง หัวท้าย"
      ],
      "metadata": {
        "id": "gmifq_m4LWj2"
      }
    },
    {
      "cell_type": "code",
      "source": [
        "sentence.strip()"
      ],
      "metadata": {
        "id": "olMqnY3tLf9C",
        "colab": {
          "base_uri": "https://localhost:8080/",
          "height": 35
        },
        "outputId": "c6239527-5def-4c73-f5c9-17f1e3f40745"
      },
      "execution_count": null,
      "outputs": [
        {
          "output_type": "execute_result",
          "data": {
            "text/plain": [
              "'Hello Python. I am ready'"
            ],
            "application/vnd.google.colaboratory.intrinsic+json": {
              "type": "string"
            }
          },
          "metadata": {},
          "execution_count": 112
        }
      ]
    },
    {
      "cell_type": "code",
      "source": [
        "list_of_words = sentence.strip().split(' ')"
      ],
      "metadata": {
        "id": "e16hJBIOLsWU"
      },
      "execution_count": null,
      "outputs": []
    },
    {
      "cell_type": "code",
      "source": [
        "corgi = ' '.join(list_of_words)\n",
        "corgi"
      ],
      "metadata": {
        "colab": {
          "base_uri": "https://localhost:8080/",
          "height": 35
        },
        "id": "VKYhXLOYS7UP",
        "outputId": "dfa5f65d-a87d-4569-e46a-55b357e7c0f3"
      },
      "execution_count": null,
      "outputs": [
        {
          "output_type": "execute_result",
          "data": {
            "text/plain": [
              "'Hello Python. I am ready'"
            ],
            "application/vnd.google.colaboratory.intrinsic+json": {
              "type": "string"
            }
          },
          "metadata": {},
          "execution_count": 114
        }
      ]
    },
    {
      "cell_type": "markdown",
      "source": [
        "# Loop and Condition\n",
        "\n",
        "# For loop\n",
        "ในภาษา Python สามารถวน for loop ตามสมาชิกแต่ละตัวใน object ที่มีลักษณะเป็น list ได้โดยการวน loop มีการใช้งานดังนี้"
      ],
      "metadata": {
        "id": "BvZvaGc0MTrg"
      }
    },
    {
      "cell_type": "code",
      "source": [
        "for temp_var in list_or_range:\n",
        "  do_something1()\n",
        "  do_something2()"
      ],
      "metadata": {
        "colab": {
          "base_uri": "https://localhost:8080/",
          "height": 176
        },
        "id": "Z_tUYWS7M4jd",
        "outputId": "b00f9f04-a10d-4b20-e13f-17ad1e6403d3"
      },
      "execution_count": null,
      "outputs": [
        {
          "output_type": "error",
          "ename": "NameError",
          "evalue": "name 'list_or_range' is not defined",
          "traceback": [
            "\u001b[0;31m---------------------------------------------------------------------------\u001b[0m",
            "\u001b[0;31mNameError\u001b[0m                                 Traceback (most recent call last)",
            "\u001b[0;32m<ipython-input-116-e38246b2afba>\u001b[0m in \u001b[0;36m<cell line: 0>\u001b[0;34m()\u001b[0m\n\u001b[0;32m----> 1\u001b[0;31m \u001b[0;32mfor\u001b[0m \u001b[0mtemp_var\u001b[0m \u001b[0;32min\u001b[0m \u001b[0mlist_or_range\u001b[0m\u001b[0;34m:\u001b[0m\u001b[0;34m\u001b[0m\u001b[0;34m\u001b[0m\u001b[0m\n\u001b[0m\u001b[1;32m      2\u001b[0m   \u001b[0mdo_something1\u001b[0m\u001b[0;34m(\u001b[0m\u001b[0;34m)\u001b[0m\u001b[0;34m\u001b[0m\u001b[0;34m\u001b[0m\u001b[0m\n\u001b[1;32m      3\u001b[0m   \u001b[0mdo_something2\u001b[0m\u001b[0;34m(\u001b[0m\u001b[0;34m)\u001b[0m\u001b[0;34m\u001b[0m\u001b[0;34m\u001b[0m\u001b[0m\n",
            "\u001b[0;31mNameError\u001b[0m: name 'list_or_range' is not defined"
          ]
        }
      ]
    },
    {
      "cell_type": "markdown",
      "source": [
        "สังเกตว่าบรรทัดหลังจาก for จะมีการ tab(เว้น 4 วรรค ) อยู่ด้านหน้า เพื่อเป็นการจัด scope ของ for loop นั้น"
      ],
      "metadata": {
        "id": "yqpwGiRYXJ2K"
      }
    },
    {
      "cell_type": "code",
      "source": [
        "# ทบทวนตัวแปร l ตัวเดิม\n",
        "l"
      ],
      "metadata": {
        "id": "hh14IO66McgB",
        "colab": {
          "base_uri": "https://localhost:8080/"
        },
        "outputId": "dc571085-c2bf-4c38-c8cc-525fd350aa65"
      },
      "execution_count": null,
      "outputs": [
        {
          "output_type": "execute_result",
          "data": {
            "text/plain": [
              "['Python!', 1, 2, 5, ':)']"
            ]
          },
          "metadata": {},
          "execution_count": 55
        }
      ]
    },
    {
      "cell_type": "code",
      "source": [
        "for item in l :\n",
        "  print(item)"
      ],
      "metadata": {
        "colab": {
          "base_uri": "https://localhost:8080/"
        },
        "id": "uvNsorJXMpLr",
        "outputId": "a105cdf4-ce7c-4f28-99e8-7c024e122378"
      },
      "execution_count": null,
      "outputs": [
        {
          "output_type": "stream",
          "name": "stdout",
          "text": [
            "Python!\n",
            "1\n",
            "2\n",
            "5\n",
            ":)\n"
          ]
        }
      ]
    },
    {
      "cell_type": "code",
      "source": [
        "for i in range(10):\n",
        "  print(i)"
      ],
      "metadata": {
        "colab": {
          "base_uri": "https://localhost:8080/"
        },
        "id": "lHxzZC4oNYPm",
        "outputId": "5f8815f7-2f9b-4096-f98d-e4327ca9ac7e"
      },
      "execution_count": null,
      "outputs": [
        {
          "output_type": "stream",
          "name": "stdout",
          "text": [
            "0\n",
            "1\n",
            "2\n",
            "3\n",
            "4\n",
            "5\n",
            "6\n",
            "7\n",
            "8\n",
            "9\n"
          ]
        }
      ]
    },
    {
      "cell_type": "markdown",
      "source": [
        "# List Comprehension\n",
        "การวน for loop เพื่อที่จะได้ output ออกมาเป็น list สามารถวนลูปไปในสมาชิกแต่ละตัว ได้ภายในใน 1 บรรทัด (แบบย่อ) เทคนิคนี้เรียกว่า list comprehension"
      ],
      "metadata": {
        "id": "U9S2Cjz6Nskr"
      }
    },
    {
      "cell_type": "code",
      "source": [
        "# List Comprehension\n",
        "list_t = [i for i in t]"
      ],
      "metadata": {
        "id": "D8K_kYUDNybc"
      },
      "execution_count": null,
      "outputs": []
    },
    {
      "cell_type": "markdown",
      "source": [
        "ดับเบิ้ลคลิก( หรือกด Enter) เพื่อแก้ไข"
      ],
      "metadata": {
        "id": "Cr26HhqtOKIs"
      }
    },
    {
      "cell_type": "code",
      "source": [
        "[i + 1 for i in range(100)]"
      ],
      "metadata": {
        "colab": {
          "base_uri": "https://localhost:8080/"
        },
        "id": "PXsWBKUEOMgW",
        "outputId": "fe39490b-c723-4510-df89-c1184e36a3bd"
      },
      "execution_count": null,
      "outputs": [
        {
          "output_type": "execute_result",
          "data": {
            "text/plain": [
              "[1,\n",
              " 2,\n",
              " 3,\n",
              " 4,\n",
              " 5,\n",
              " 6,\n",
              " 7,\n",
              " 8,\n",
              " 9,\n",
              " 10,\n",
              " 11,\n",
              " 12,\n",
              " 13,\n",
              " 14,\n",
              " 15,\n",
              " 16,\n",
              " 17,\n",
              " 18,\n",
              " 19,\n",
              " 20,\n",
              " 21,\n",
              " 22,\n",
              " 23,\n",
              " 24,\n",
              " 25,\n",
              " 26,\n",
              " 27,\n",
              " 28,\n",
              " 29,\n",
              " 30,\n",
              " 31,\n",
              " 32,\n",
              " 33,\n",
              " 34,\n",
              " 35,\n",
              " 36,\n",
              " 37,\n",
              " 38,\n",
              " 39,\n",
              " 40,\n",
              " 41,\n",
              " 42,\n",
              " 43,\n",
              " 44,\n",
              " 45,\n",
              " 46,\n",
              " 47,\n",
              " 48,\n",
              " 49,\n",
              " 50,\n",
              " 51,\n",
              " 52,\n",
              " 53,\n",
              " 54,\n",
              " 55,\n",
              " 56,\n",
              " 57,\n",
              " 58,\n",
              " 59,\n",
              " 60,\n",
              " 61,\n",
              " 62,\n",
              " 63,\n",
              " 64,\n",
              " 65,\n",
              " 66,\n",
              " 67,\n",
              " 68,\n",
              " 69,\n",
              " 70,\n",
              " 71,\n",
              " 72,\n",
              " 73,\n",
              " 74,\n",
              " 75,\n",
              " 76,\n",
              " 77,\n",
              " 78,\n",
              " 79,\n",
              " 80,\n",
              " 81,\n",
              " 82,\n",
              " 83,\n",
              " 84,\n",
              " 85,\n",
              " 86,\n",
              " 87,\n",
              " 88,\n",
              " 89,\n",
              " 90,\n",
              " 91,\n",
              " 92,\n",
              " 93,\n",
              " 94,\n",
              " 95,\n",
              " 96,\n",
              " 97,\n",
              " 98,\n",
              " 99,\n",
              " 100]"
            ]
          },
          "metadata": {},
          "execution_count": 59
        }
      ]
    },
    {
      "cell_type": "markdown",
      "source": [
        "# If condition\n",
        "if condition จะทำตาใเงื่อนไขต่อเมื่อเป็นจริงเท่านั้น\n",
        "elif (else if) คือ เงื่อนไขรอง หาก if แรกไม่เป็นจริง มีกี่อันก็ได้\n",
        "ถ้าไม่ตรงกรณีไหนเลยจะทำ else (else if และ else สามารถไม่มีก็ได้)"
      ],
      "metadata": {
        "id": "yuGSvU8EOaAV"
      }
    },
    {
      "cell_type": "code",
      "source": [
        "if len(t) == 5:\n",
        "  print('length is 5')\n",
        "else:\n",
        "  print('length not equals5')"
      ],
      "metadata": {
        "colab": {
          "base_uri": "https://localhost:8080/"
        },
        "id": "7RWYjbUkOd7t",
        "outputId": "28b84107-fe62-492f-ba9f-c671e5f42b8d"
      },
      "execution_count": null,
      "outputs": [
        {
          "output_type": "stream",
          "name": "stdout",
          "text": [
            "length is 5\n"
          ]
        }
      ]
    },
    {
      "cell_type": "code",
      "source": [
        "# ทบทวนตัวแปร grade ตัวเดิม\n",
        "grade"
      ],
      "metadata": {
        "id": "VJzcIDnKPNu9",
        "colab": {
          "base_uri": "https://localhost:8080/"
        },
        "outputId": "20b205c4-5fe9-4655-9e22-2263eac5afa7"
      },
      "execution_count": null,
      "outputs": [
        {
          "output_type": "execute_result",
          "data": {
            "text/plain": [
              "{'A': 80, 'B': 70, 'C': 60, 'D': 50, 'B+': 75}"
            ]
          },
          "metadata": {},
          "execution_count": 120
        }
      ]
    },
    {
      "cell_type": "code",
      "source": [
        "score = 75\n",
        "if score >= grade[\"A\"]:\n",
        "  print(\"A\")\n",
        "  print(\"Good Job!\")\n",
        "elif score >= grade[\"B+\"]:\n",
        "  print(\"B+\")\n",
        "elif score >= grade[\"B\"]:\n",
        "  print(\"B\")\n",
        "elif score >= grade[\"C\"]:\n",
        "  print(\"C\")\n",
        "elif score >= grade[\"D\"]:\n",
        "  print(\"D\")\n",
        "else:\n",
        "  print(\"F\")"
      ],
      "metadata": {
        "colab": {
          "base_uri": "https://localhost:8080/"
        },
        "id": "RejDM9G4PXw2",
        "outputId": "d88fa8e4-e9c7-4880-ece6-51be8de18a5a"
      },
      "execution_count": null,
      "outputs": [
        {
          "output_type": "stream",
          "name": "stdout",
          "text": [
            "B+\n"
          ]
        }
      ]
    },
    {
      "cell_type": "markdown",
      "source": [
        "# Python Packages\n",
        "Python Packages คือการรวบรวม function อื่นๆ เพิ่มเติมให้สามารถเรียกใช้ได้ มี 2 ประเภท ได้แก่\n",
        "1. Bailt-in package คือ package ที่มาจาก Pythonสามารถเรียกใช้เลยโดยไม่ต้อง install เพิ่มเติม\n",
        "2. 3rd party package คือpackage อื่นๆ ที่ถูกพัฒนาเพื่อให้ใช้และติดตั้งได้ฟรี สามารถ install ได้ผ่าน pip ซึ่งเป็น ตัวจัดการ package ของ Python คำสั่งในการ install คือ pip install[ชื่อ package]\n",
        "\n",
        "บางครั้ง package ก็เรียกว่า library ได้เหมือนกัน"
      ],
      "metadata": {
        "id": "UMz9iBucHsEx"
      }
    },
    {
      "cell_type": "markdown",
      "source": [
        "มาลอง Hello World! กันด้วยการ import กัน"
      ],
      "metadata": {
        "id": "yy8V7Rl--mba"
      }
    },
    {
      "cell_type": "code",
      "source": [
        "import __hello__"
      ],
      "metadata": {
        "id": "utojMbMw-yR4"
      },
      "execution_count": null,
      "outputs": []
    },
    {
      "cell_type": "markdown",
      "source": [
        "# Math\n",
        "Paxkage สำหรับคำนวณตัวเลข เช่น Log, Exponentiall และเรียกใช้ค่าสำคัญทางคณิตศาสตร์ เช่น Pi\n"
      ],
      "metadata": {
        "id": "q84cPw_tH-FP"
      }
    },
    {
      "cell_type": "code",
      "source": [
        "import math\n",
        "\n",
        "math.pi"
      ],
      "metadata": {
        "colab": {
          "base_uri": "https://localhost:8080/"
        },
        "id": "pPT_tVwoH1p6",
        "outputId": "15c42228-cde3-40a7-dd1a-513b7bdf82c1"
      },
      "execution_count": null,
      "outputs": [
        {
          "output_type": "execute_result",
          "data": {
            "text/plain": [
              "3.141592653589793"
            ]
          },
          "metadata": {},
          "execution_count": 123
        }
      ]
    },
    {
      "cell_type": "markdown",
      "source": [
        "นอกจากการ import แบบตรง สามารถ import เฉพาะตัวแปร หรือ fuction ได้เช่นกัน โดยใช้ from [ชื่อ package] import [ชื่อ function หรือ ตัวแปร ที่ต้องการ import]"
      ],
      "metadata": {
        "id": "K4imP0uX_dYC"
      }
    },
    {
      "cell_type": "code",
      "source": [
        "from math import pi"
      ],
      "metadata": {
        "id": "4kwo-ZT2AANN"
      },
      "execution_count": null,
      "outputs": []
    },
    {
      "cell_type": "markdown",
      "source": [
        "# Datetime\n",
        "Datetime เป็น Package สำหรับจัดการข้อมูลวันเวลา เช่น เวลาในแต่ละ Timezone, ดึงวันเวลาในวันนี้ โดยทั่วไป เวลามักจะเป็นเวลา UTC (Universal Time Coordinated) คือเป็นเวลาตามเวลามาตรฐานโลก ไม่อิงตาม timezone เวลาประเทศไทย จะเป็นเวลาที่เรียกว่า lndochina (lCT) คือ เวลา UTC + 7 ชั่วโมง"
      ],
      "metadata": {
        "id": "4cVeHlYkIVWb"
      }
    },
    {
      "cell_type": "code",
      "source": [
        "datetime"
      ],
      "metadata": {
        "colab": {
          "base_uri": "https://localhost:8080/"
        },
        "id": "1SvLC4JCBiw_",
        "outputId": "30c0b04e-6fe7-453e-e0e2-fcc23548d269"
      },
      "execution_count": null,
      "outputs": [
        {
          "output_type": "execute_result",
          "data": {
            "text/plain": [
              "<module 'datetime' from '/usr/lib/python3.11/datetime.py'>"
            ]
          },
          "metadata": {},
          "execution_count": 126
        }
      ]
    },
    {
      "cell_type": "code",
      "source": [
        "import datetime\n",
        "\n",
        "now = datetime.datetime.now()\n",
        "now"
      ],
      "metadata": {
        "colab": {
          "base_uri": "https://localhost:8080/"
        },
        "id": "LT2MFHn6IaE-",
        "outputId": "f0a332a3-5bf6-426d-c7d1-e4c8c750aaca"
      },
      "execution_count": null,
      "outputs": [
        {
          "output_type": "execute_result",
          "data": {
            "text/plain": [
              "datetime.datetime(2025, 1, 18, 18, 8, 22, 898867)"
            ]
          },
          "metadata": {},
          "execution_count": 127
        }
      ]
    },
    {
      "cell_type": "markdown",
      "source": [
        "isoformat คือ format มาตรฐานที่นิยมใช้ใน timestamp ที่เก็บไว้บน database / data warehouse"
      ],
      "metadata": {
        "id": "8u1BTPMfItTs"
      }
    },
    {
      "cell_type": "code",
      "source": [
        "now.isoformat()"
      ],
      "metadata": {
        "colab": {
          "base_uri": "https://localhost:8080/",
          "height": 35
        },
        "id": "m1lu5ZAYIyC9",
        "outputId": "d7802767-81f0-458d-c256-8253d18d155c"
      },
      "execution_count": null,
      "outputs": [
        {
          "output_type": "execute_result",
          "data": {
            "text/plain": [
              "'2025-01-18T18:08:22.898867'"
            ],
            "application/vnd.google.colaboratory.intrinsic+json": {
              "type": "string"
            }
          },
          "metadata": {},
          "execution_count": 128
        }
      ]
    },
    {
      "cell_type": "markdown",
      "source": [
        "การเรียกใช้ดูวันที่ปัจจุบัน"
      ],
      "metadata": {
        "id": "RrTf4tT7I3WD"
      }
    },
    {
      "cell_type": "code",
      "source": [
        "today = datetime.date.today()\n",
        "today"
      ],
      "metadata": {
        "colab": {
          "base_uri": "https://localhost:8080/"
        },
        "id": "Jja6X6UUI8gZ",
        "outputId": "4e222a89-2826-480f-d6ea-519ff70b7799"
      },
      "execution_count": null,
      "outputs": [
        {
          "output_type": "execute_result",
          "data": {
            "text/plain": [
              "datetime.date(2025, 1, 18)"
            ]
          },
          "metadata": {},
          "execution_count": 129
        }
      ]
    },
    {
      "cell_type": "markdown",
      "source": [
        "รูปแบบมาตรฐานของ date คือ YYYY-mm-dd\n",
        "\n"
      ],
      "metadata": {
        "id": "u9oQzmkOJQJM"
      }
    },
    {
      "cell_type": "markdown",
      "source": [
        "เพิ่มข้อความทั้งย่อหน้าที่ยกมา"
      ],
      "metadata": {
        "id": "_ytb6-QjC9uM"
      }
    },
    {
      "cell_type": "code",
      "source": [
        "today.isoformat()"
      ],
      "metadata": {
        "colab": {
          "base_uri": "https://localhost:8080/",
          "height": 35
        },
        "id": "s0mopTLPJUW1",
        "outputId": "3c64ed5b-5dd2-4074-f93b-903bd8060e81"
      },
      "execution_count": null,
      "outputs": [
        {
          "output_type": "execute_result",
          "data": {
            "text/plain": [
              "'2025-01-18'"
            ],
            "application/vnd.google.colaboratory.intrinsic+json": {
              "type": "string"
            }
          },
          "metadata": {},
          "execution_count": 67
        }
      ]
    },
    {
      "cell_type": "markdown",
      "source": [
        "# Simple functions\n",
        "\n",
        "Function คือ การกำหนดการคนวณที่ใช้ซ้ำบ่อยๆ เพื่อให้เรียกใช้ได้สะดวก ในการเรียกใช้ Function ผู้ใช้ส่งตัวแปรเข้ามากี่ตัวก็ได้ (เรียกว่า argument หรือ rate ตัวแปรค่าเงินที่สามารถกำหนดค่า default ได้ ) การ reture คือ การคืนค่าออกไปเพื่อเป็นผลลัพธ์ของ function parameter ของ function คือ ตัวแปรรับค่าที่เปลี่ยนค่าได้"
      ],
      "metadata": {
        "id": "xC6qPj7TJgpL"
      }
    },
    {
      "cell_type": "code",
      "source": [
        "def circle_area(radius):\n",
        "  return math.pi * radius ** 2\n",
        "\n",
        "  circle_area(4)"
      ],
      "metadata": {
        "id": "_AxY7tj7JnfB"
      },
      "execution_count": null,
      "outputs": []
    },
    {
      "cell_type": "markdown",
      "source": [
        "parameter"
      ],
      "metadata": {
        "id": "fHaXZSI4KrCd"
      }
    },
    {
      "cell_type": "code",
      "source": [
        "def rectangle_area(width, height):\n",
        "  return width * height\n",
        "\n",
        "rectangle_area(4, 5)"
      ],
      "metadata": {
        "id": "fHcfKJ3lKu0O",
        "colab": {
          "base_uri": "https://localhost:8080/"
        },
        "outputId": "f3b9797f-48d8-43fc-e9ba-4f9b9850e041"
      },
      "execution_count": null,
      "outputs": [
        {
          "output_type": "execute_result",
          "data": {
            "text/plain": [
              "20"
            ]
          },
          "metadata": {},
          "execution_count": 131
        }
      ]
    },
    {
      "cell_type": "markdown",
      "source": [
        "สร้างฟังก์ชันเพื่อแปลงค่าเงิน โดย rate จะมี default parameter อยู่ที่ 31.33"
      ],
      "metadata": {
        "id": "vy-A6ektLLEq"
      }
    },
    {
      "cell_type": "code",
      "source": [
        "def conversion(amount, rate=31.33):\n",
        "  return amount * rate\n",
        "\n",
        "conversion(30)"
      ],
      "metadata": {
        "colab": {
          "base_uri": "https://localhost:8080/"
        },
        "id": "ZE1SLNRWLPM8",
        "outputId": "8d9d25a2-b0a4-41a4-e056-682296b0c9c4"
      },
      "execution_count": null,
      "outputs": [
        {
          "output_type": "execute_result",
          "data": {
            "text/plain": [
              "939.9"
            ]
          },
          "metadata": {},
          "execution_count": 132
        }
      ]
    },
    {
      "cell_type": "markdown",
      "source": [
        "แต่สามารถปรับเปลี่ยนค่า rate ได้เหมือนฟังก์ชันปกติ ถ้าเกิดมีการใส่ rate มา"
      ],
      "metadata": {
        "id": "UA971fBOL-eT"
      }
    },
    {
      "cell_type": "code",
      "source": [
        "conversion(30,34.3333)"
      ],
      "metadata": {
        "colab": {
          "base_uri": "https://localhost:8080/"
        },
        "id": "Um-rXD1uL3cR",
        "outputId": "5a779804-56a9-491b-8ed2-493c439bb1b1"
      },
      "execution_count": null,
      "outputs": [
        {
          "output_type": "execute_result",
          "data": {
            "text/plain": [
              "1029.999"
            ]
          },
          "metadata": {},
          "execution_count": 71
        }
      ]
    },
    {
      "cell_type": "markdown",
      "source": [
        "# Working with files การทำงานร่วมกับไฟล์"
      ],
      "metadata": {
        "id": "9eTDVVeOMPfv"
      }
    },
    {
      "cell_type": "markdown",
      "source": [
        "# Write file การเขียนไฟล์\n",
        "การเขียนไฟล์ จะใช้คำสั่ง open เพื่อเปิดไฟล์ และเขียนไฟล์ลงไป \"w\" ข้างหลัง  (write) คือ โหมดของการเปิดไฟล์แบบเขียน ซึ่งจะสร้างไฟล์ใหม่ขึ้นมาเพื่อเขียน"
      ],
      "metadata": {
        "id": "pc43s03dMb6f"
      }
    },
    {
      "cell_type": "code",
      "source": [
        "file = open(\"output.csv\", \"w\")\n",
        "file.write(\"date,item,price\\n\")\n",
        "file.write(\"2020-02-07, Milk, 26.5\\n\")\n",
        "file.write(\"2020-02-08, Water, 7\\n\")\n",
        "file.close()"
      ],
      "metadata": {
        "id": "ZL16CY28Mfc-"
      },
      "execution_count": null,
      "outputs": []
    },
    {
      "cell_type": "markdown",
      "source": [
        "การวนลูปไฟล์ จาก list ของ tuple"
      ],
      "metadata": {
        "id": "-0_N2UefNOfF"
      }
    },
    {
      "cell_type": "code",
      "source": [
        "header = (\"date\", \"item\", \"price\")\n",
        "\",\".join(header) + \"\\n\""
      ],
      "metadata": {
        "colab": {
          "base_uri": "https://localhost:8080/",
          "height": 35
        },
        "id": "IHLVBSYqNQgo",
        "outputId": "89e30184-1a8e-40f4-9754-5db14ea7f5a0"
      },
      "execution_count": null,
      "outputs": [
        {
          "output_type": "execute_result",
          "data": {
            "text/plain": [
              "'date,item,price\\n'"
            ],
            "application/vnd.google.colaboratory.intrinsic+json": {
              "type": "string"
            }
          },
          "metadata": {},
          "execution_count": 134
        }
      ]
    },
    {
      "cell_type": "code",
      "source": [
        "header = (\"date\", \"item\", \"price\")\n",
        "content = [\n",
        "    (\"2020-02-07\", \"Milk\", \"26.5\"),\n",
        "    (\"2020-02-08\", \"Water\", \"7\"),\n",
        "    (\"2020-02-08\", \"Mask\", \"20\"),\n",
        "    (\"2020-02-08\", \"Lays\", \"10\"),\n",
        "    (\"2020-02-08\", \"Rice\", \"6\"),\n",
        "]\n",
        "\n",
        "file = open('products.csv', 'w')\n",
        "file.write(\",\".join(header) + \"\\n\")\n",
        "\n",
        "for row in content:\n",
        "  file.write(\",\".join(row) + \"\\n\")\n",
        "\n",
        "file.close()"
      ],
      "metadata": {
        "id": "4Ih1jDM_NnqQ"
      },
      "execution_count": null,
      "outputs": []
    },
    {
      "cell_type": "markdown",
      "source": [
        "การอ่านไฟล์ จะคล้ายคลึงกับ การเขียนไฟล์ตรง open file เช่นกัน แตกต่างกันที่ mod"
      ],
      "metadata": {
        "id": "LrWuKOm7QtwH"
      }
    },
    {
      "cell_type": "code",
      "source": [
        "with open(\"products.csv\", \"r\") as f:\n",
        "  product = f.readlines()\n",
        "\n",
        "product"
      ],
      "metadata": {
        "colab": {
          "base_uri": "https://localhost:8080/"
        },
        "id": "q_0rfJTpQwAd",
        "outputId": "8dfef0a9-e3c3-4c2f-bfe8-655a93337b27"
      },
      "execution_count": null,
      "outputs": [
        {
          "output_type": "execute_result",
          "data": {
            "text/plain": [
              "['date,item,price\\n',\n",
              " '2020-02-07,Milk,26.5\\n',\n",
              " '2020-02-08,Water,7\\n',\n",
              " '2020-02-08,Mask,20\\n',\n",
              " '2020-02-08,Lays,10\\n',\n",
              " '2020-02-08,Rice,6\\n']"
            ]
          },
          "metadata": {},
          "execution_count": 136
        }
      ]
    },
    {
      "cell_type": "code",
      "source": [
        "len(product)"
      ],
      "metadata": {
        "colab": {
          "base_uri": "https://localhost:8080/"
        },
        "id": "JB8NuyZkSu_Y",
        "outputId": "b96fcd1a-888d-4ade-abee-65e8fa1af991"
      },
      "execution_count": null,
      "outputs": [
        {
          "output_type": "execute_result",
          "data": {
            "text/plain": [
              "6"
            ]
          },
          "metadata": {},
          "execution_count": 76
        }
      ]
    },
    {
      "cell_type": "markdown",
      "source": [
        "# Use Pandas to Read/Write file\n",
        "การอ่านไฟล์ CSV ด้วย Pandas (3rd party package) สำหรับการอ่านและประมวลผลไฟล์ ในลักษณะของตาราง DataFrame Pandas เป็นที่นิยมใช้ในสาย data มาก เพราะสามารถช่วยให้วิเคราะห์และใช้งาน data ที่เป็น table ใน Python ได้ง่ายขึ้น เนื่องจากเป็น package ที่ python ไม่มี จึงต้อง import ก่อนด้วย"
      ],
      "metadata": {
        "id": "Yutn9qtkS41K"
      }
    },
    {
      "cell_type": "markdown",
      "source": [
        "    import pandas as pd\n",
        "\n",
        "  (Google Colab ได้ install pandasไว้อัตโนมัติอยู่แล้ว เพราะเป็น package ยอดนิยม)"
      ],
      "metadata": {
        "id": "elwLXh34GpJt"
      }
    },
    {
      "cell_type": "code",
      "source": [
        "import pandas as pd\n",
        "\n",
        "df = pd.read_csv(\"sample_data/california_housing_test.csv\")\n",
        "df"
      ],
      "metadata": {
        "colab": {
          "base_uri": "https://localhost:8080/",
          "height": 443
        },
        "id": "1IRrh_vBS7J9",
        "outputId": "011bf15d-70ff-4a47-a2c6-505c7431c9dc"
      },
      "execution_count": null,
      "outputs": [
        {
          "output_type": "execute_result",
          "data": {
            "text/plain": [
              "      longitude  latitude  housing_median_age  total_rooms  total_bedrooms  \\\n",
              "0       -122.05     37.37                27.0       3885.0           661.0   \n",
              "1       -118.30     34.26                43.0       1510.0           310.0   \n",
              "2       -117.81     33.78                27.0       3589.0           507.0   \n",
              "3       -118.36     33.82                28.0         67.0            15.0   \n",
              "4       -119.67     36.33                19.0       1241.0           244.0   \n",
              "...         ...       ...                 ...          ...             ...   \n",
              "2995    -119.86     34.42                23.0       1450.0           642.0   \n",
              "2996    -118.14     34.06                27.0       5257.0          1082.0   \n",
              "2997    -119.70     36.30                10.0        956.0           201.0   \n",
              "2998    -117.12     34.10                40.0         96.0            14.0   \n",
              "2999    -119.63     34.42                42.0       1765.0           263.0   \n",
              "\n",
              "      population  households  median_income  median_house_value  \n",
              "0         1537.0       606.0         6.6085            344700.0  \n",
              "1          809.0       277.0         3.5990            176500.0  \n",
              "2         1484.0       495.0         5.7934            270500.0  \n",
              "3           49.0        11.0         6.1359            330000.0  \n",
              "4          850.0       237.0         2.9375             81700.0  \n",
              "...          ...         ...            ...                 ...  \n",
              "2995      1258.0       607.0         1.1790            225000.0  \n",
              "2996      3496.0      1036.0         3.3906            237200.0  \n",
              "2997       693.0       220.0         2.2895             62000.0  \n",
              "2998        46.0        14.0         3.2708            162500.0  \n",
              "2999       753.0       260.0         8.5608            500001.0  \n",
              "\n",
              "[3000 rows x 9 columns]"
            ],
            "text/html": [
              "\n",
              "  <div id=\"df-860d9d43-1605-421a-8ee0-763e6bca4fcd\" class=\"colab-df-container\">\n",
              "    <div>\n",
              "<style scoped>\n",
              "    .dataframe tbody tr th:only-of-type {\n",
              "        vertical-align: middle;\n",
              "    }\n",
              "\n",
              "    .dataframe tbody tr th {\n",
              "        vertical-align: top;\n",
              "    }\n",
              "\n",
              "    .dataframe thead th {\n",
              "        text-align: right;\n",
              "    }\n",
              "</style>\n",
              "<table border=\"1\" class=\"dataframe\">\n",
              "  <thead>\n",
              "    <tr style=\"text-align: right;\">\n",
              "      <th></th>\n",
              "      <th>longitude</th>\n",
              "      <th>latitude</th>\n",
              "      <th>housing_median_age</th>\n",
              "      <th>total_rooms</th>\n",
              "      <th>total_bedrooms</th>\n",
              "      <th>population</th>\n",
              "      <th>households</th>\n",
              "      <th>median_income</th>\n",
              "      <th>median_house_value</th>\n",
              "    </tr>\n",
              "  </thead>\n",
              "  <tbody>\n",
              "    <tr>\n",
              "      <th>0</th>\n",
              "      <td>-122.05</td>\n",
              "      <td>37.37</td>\n",
              "      <td>27.0</td>\n",
              "      <td>3885.0</td>\n",
              "      <td>661.0</td>\n",
              "      <td>1537.0</td>\n",
              "      <td>606.0</td>\n",
              "      <td>6.6085</td>\n",
              "      <td>344700.0</td>\n",
              "    </tr>\n",
              "    <tr>\n",
              "      <th>1</th>\n",
              "      <td>-118.30</td>\n",
              "      <td>34.26</td>\n",
              "      <td>43.0</td>\n",
              "      <td>1510.0</td>\n",
              "      <td>310.0</td>\n",
              "      <td>809.0</td>\n",
              "      <td>277.0</td>\n",
              "      <td>3.5990</td>\n",
              "      <td>176500.0</td>\n",
              "    </tr>\n",
              "    <tr>\n",
              "      <th>2</th>\n",
              "      <td>-117.81</td>\n",
              "      <td>33.78</td>\n",
              "      <td>27.0</td>\n",
              "      <td>3589.0</td>\n",
              "      <td>507.0</td>\n",
              "      <td>1484.0</td>\n",
              "      <td>495.0</td>\n",
              "      <td>5.7934</td>\n",
              "      <td>270500.0</td>\n",
              "    </tr>\n",
              "    <tr>\n",
              "      <th>3</th>\n",
              "      <td>-118.36</td>\n",
              "      <td>33.82</td>\n",
              "      <td>28.0</td>\n",
              "      <td>67.0</td>\n",
              "      <td>15.0</td>\n",
              "      <td>49.0</td>\n",
              "      <td>11.0</td>\n",
              "      <td>6.1359</td>\n",
              "      <td>330000.0</td>\n",
              "    </tr>\n",
              "    <tr>\n",
              "      <th>4</th>\n",
              "      <td>-119.67</td>\n",
              "      <td>36.33</td>\n",
              "      <td>19.0</td>\n",
              "      <td>1241.0</td>\n",
              "      <td>244.0</td>\n",
              "      <td>850.0</td>\n",
              "      <td>237.0</td>\n",
              "      <td>2.9375</td>\n",
              "      <td>81700.0</td>\n",
              "    </tr>\n",
              "    <tr>\n",
              "      <th>...</th>\n",
              "      <td>...</td>\n",
              "      <td>...</td>\n",
              "      <td>...</td>\n",
              "      <td>...</td>\n",
              "      <td>...</td>\n",
              "      <td>...</td>\n",
              "      <td>...</td>\n",
              "      <td>...</td>\n",
              "      <td>...</td>\n",
              "    </tr>\n",
              "    <tr>\n",
              "      <th>2995</th>\n",
              "      <td>-119.86</td>\n",
              "      <td>34.42</td>\n",
              "      <td>23.0</td>\n",
              "      <td>1450.0</td>\n",
              "      <td>642.0</td>\n",
              "      <td>1258.0</td>\n",
              "      <td>607.0</td>\n",
              "      <td>1.1790</td>\n",
              "      <td>225000.0</td>\n",
              "    </tr>\n",
              "    <tr>\n",
              "      <th>2996</th>\n",
              "      <td>-118.14</td>\n",
              "      <td>34.06</td>\n",
              "      <td>27.0</td>\n",
              "      <td>5257.0</td>\n",
              "      <td>1082.0</td>\n",
              "      <td>3496.0</td>\n",
              "      <td>1036.0</td>\n",
              "      <td>3.3906</td>\n",
              "      <td>237200.0</td>\n",
              "    </tr>\n",
              "    <tr>\n",
              "      <th>2997</th>\n",
              "      <td>-119.70</td>\n",
              "      <td>36.30</td>\n",
              "      <td>10.0</td>\n",
              "      <td>956.0</td>\n",
              "      <td>201.0</td>\n",
              "      <td>693.0</td>\n",
              "      <td>220.0</td>\n",
              "      <td>2.2895</td>\n",
              "      <td>62000.0</td>\n",
              "    </tr>\n",
              "    <tr>\n",
              "      <th>2998</th>\n",
              "      <td>-117.12</td>\n",
              "      <td>34.10</td>\n",
              "      <td>40.0</td>\n",
              "      <td>96.0</td>\n",
              "      <td>14.0</td>\n",
              "      <td>46.0</td>\n",
              "      <td>14.0</td>\n",
              "      <td>3.2708</td>\n",
              "      <td>162500.0</td>\n",
              "    </tr>\n",
              "    <tr>\n",
              "      <th>2999</th>\n",
              "      <td>-119.63</td>\n",
              "      <td>34.42</td>\n",
              "      <td>42.0</td>\n",
              "      <td>1765.0</td>\n",
              "      <td>263.0</td>\n",
              "      <td>753.0</td>\n",
              "      <td>260.0</td>\n",
              "      <td>8.5608</td>\n",
              "      <td>500001.0</td>\n",
              "    </tr>\n",
              "  </tbody>\n",
              "</table>\n",
              "<p>3000 rows × 9 columns</p>\n",
              "</div>\n",
              "    <div class=\"colab-df-buttons\">\n",
              "\n",
              "  <div class=\"colab-df-container\">\n",
              "    <button class=\"colab-df-convert\" onclick=\"convertToInteractive('df-860d9d43-1605-421a-8ee0-763e6bca4fcd')\"\n",
              "            title=\"Convert this dataframe to an interactive table.\"\n",
              "            style=\"display:none;\">\n",
              "\n",
              "  <svg xmlns=\"http://www.w3.org/2000/svg\" height=\"24px\" viewBox=\"0 -960 960 960\">\n",
              "    <path d=\"M120-120v-720h720v720H120Zm60-500h600v-160H180v160Zm220 220h160v-160H400v160Zm0 220h160v-160H400v160ZM180-400h160v-160H180v160Zm440 0h160v-160H620v160ZM180-180h160v-160H180v160Zm440 0h160v-160H620v160Z\"/>\n",
              "  </svg>\n",
              "    </button>\n",
              "\n",
              "  <style>\n",
              "    .colab-df-container {\n",
              "      display:flex;\n",
              "      gap: 12px;\n",
              "    }\n",
              "\n",
              "    .colab-df-convert {\n",
              "      background-color: #E8F0FE;\n",
              "      border: none;\n",
              "      border-radius: 50%;\n",
              "      cursor: pointer;\n",
              "      display: none;\n",
              "      fill: #1967D2;\n",
              "      height: 32px;\n",
              "      padding: 0 0 0 0;\n",
              "      width: 32px;\n",
              "    }\n",
              "\n",
              "    .colab-df-convert:hover {\n",
              "      background-color: #E2EBFA;\n",
              "      box-shadow: 0px 1px 2px rgba(60, 64, 67, 0.3), 0px 1px 3px 1px rgba(60, 64, 67, 0.15);\n",
              "      fill: #174EA6;\n",
              "    }\n",
              "\n",
              "    .colab-df-buttons div {\n",
              "      margin-bottom: 4px;\n",
              "    }\n",
              "\n",
              "    [theme=dark] .colab-df-convert {\n",
              "      background-color: #3B4455;\n",
              "      fill: #D2E3FC;\n",
              "    }\n",
              "\n",
              "    [theme=dark] .colab-df-convert:hover {\n",
              "      background-color: #434B5C;\n",
              "      box-shadow: 0px 1px 3px 1px rgba(0, 0, 0, 0.15);\n",
              "      filter: drop-shadow(0px 1px 2px rgba(0, 0, 0, 0.3));\n",
              "      fill: #FFFFFF;\n",
              "    }\n",
              "  </style>\n",
              "\n",
              "    <script>\n",
              "      const buttonEl =\n",
              "        document.querySelector('#df-860d9d43-1605-421a-8ee0-763e6bca4fcd button.colab-df-convert');\n",
              "      buttonEl.style.display =\n",
              "        google.colab.kernel.accessAllowed ? 'block' : 'none';\n",
              "\n",
              "      async function convertToInteractive(key) {\n",
              "        const element = document.querySelector('#df-860d9d43-1605-421a-8ee0-763e6bca4fcd');\n",
              "        const dataTable =\n",
              "          await google.colab.kernel.invokeFunction('convertToInteractive',\n",
              "                                                    [key], {});\n",
              "        if (!dataTable) return;\n",
              "\n",
              "        const docLinkHtml = 'Like what you see? Visit the ' +\n",
              "          '<a target=\"_blank\" href=https://colab.research.google.com/notebooks/data_table.ipynb>data table notebook</a>'\n",
              "          + ' to learn more about interactive tables.';\n",
              "        element.innerHTML = '';\n",
              "        dataTable['output_type'] = 'display_data';\n",
              "        await google.colab.output.renderOutput(dataTable, element);\n",
              "        const docLink = document.createElement('div');\n",
              "        docLink.innerHTML = docLinkHtml;\n",
              "        element.appendChild(docLink);\n",
              "      }\n",
              "    </script>\n",
              "  </div>\n",
              "\n",
              "\n",
              "<div id=\"df-c1dc567f-72b0-43c2-b2fd-9a5568f7c780\">\n",
              "  <button class=\"colab-df-quickchart\" onclick=\"quickchart('df-c1dc567f-72b0-43c2-b2fd-9a5568f7c780')\"\n",
              "            title=\"Suggest charts\"\n",
              "            style=\"display:none;\">\n",
              "\n",
              "<svg xmlns=\"http://www.w3.org/2000/svg\" height=\"24px\"viewBox=\"0 0 24 24\"\n",
              "     width=\"24px\">\n",
              "    <g>\n",
              "        <path d=\"M19 3H5c-1.1 0-2 .9-2 2v14c0 1.1.9 2 2 2h14c1.1 0 2-.9 2-2V5c0-1.1-.9-2-2-2zM9 17H7v-7h2v7zm4 0h-2V7h2v10zm4 0h-2v-4h2v4z\"/>\n",
              "    </g>\n",
              "</svg>\n",
              "  </button>\n",
              "\n",
              "<style>\n",
              "  .colab-df-quickchart {\n",
              "      --bg-color: #E8F0FE;\n",
              "      --fill-color: #1967D2;\n",
              "      --hover-bg-color: #E2EBFA;\n",
              "      --hover-fill-color: #174EA6;\n",
              "      --disabled-fill-color: #AAA;\n",
              "      --disabled-bg-color: #DDD;\n",
              "  }\n",
              "\n",
              "  [theme=dark] .colab-df-quickchart {\n",
              "      --bg-color: #3B4455;\n",
              "      --fill-color: #D2E3FC;\n",
              "      --hover-bg-color: #434B5C;\n",
              "      --hover-fill-color: #FFFFFF;\n",
              "      --disabled-bg-color: #3B4455;\n",
              "      --disabled-fill-color: #666;\n",
              "  }\n",
              "\n",
              "  .colab-df-quickchart {\n",
              "    background-color: var(--bg-color);\n",
              "    border: none;\n",
              "    border-radius: 50%;\n",
              "    cursor: pointer;\n",
              "    display: none;\n",
              "    fill: var(--fill-color);\n",
              "    height: 32px;\n",
              "    padding: 0;\n",
              "    width: 32px;\n",
              "  }\n",
              "\n",
              "  .colab-df-quickchart:hover {\n",
              "    background-color: var(--hover-bg-color);\n",
              "    box-shadow: 0 1px 2px rgba(60, 64, 67, 0.3), 0 1px 3px 1px rgba(60, 64, 67, 0.15);\n",
              "    fill: var(--button-hover-fill-color);\n",
              "  }\n",
              "\n",
              "  .colab-df-quickchart-complete:disabled,\n",
              "  .colab-df-quickchart-complete:disabled:hover {\n",
              "    background-color: var(--disabled-bg-color);\n",
              "    fill: var(--disabled-fill-color);\n",
              "    box-shadow: none;\n",
              "  }\n",
              "\n",
              "  .colab-df-spinner {\n",
              "    border: 2px solid var(--fill-color);\n",
              "    border-color: transparent;\n",
              "    border-bottom-color: var(--fill-color);\n",
              "    animation:\n",
              "      spin 1s steps(1) infinite;\n",
              "  }\n",
              "\n",
              "  @keyframes spin {\n",
              "    0% {\n",
              "      border-color: transparent;\n",
              "      border-bottom-color: var(--fill-color);\n",
              "      border-left-color: var(--fill-color);\n",
              "    }\n",
              "    20% {\n",
              "      border-color: transparent;\n",
              "      border-left-color: var(--fill-color);\n",
              "      border-top-color: var(--fill-color);\n",
              "    }\n",
              "    30% {\n",
              "      border-color: transparent;\n",
              "      border-left-color: var(--fill-color);\n",
              "      border-top-color: var(--fill-color);\n",
              "      border-right-color: var(--fill-color);\n",
              "    }\n",
              "    40% {\n",
              "      border-color: transparent;\n",
              "      border-right-color: var(--fill-color);\n",
              "      border-top-color: var(--fill-color);\n",
              "    }\n",
              "    60% {\n",
              "      border-color: transparent;\n",
              "      border-right-color: var(--fill-color);\n",
              "    }\n",
              "    80% {\n",
              "      border-color: transparent;\n",
              "      border-right-color: var(--fill-color);\n",
              "      border-bottom-color: var(--fill-color);\n",
              "    }\n",
              "    90% {\n",
              "      border-color: transparent;\n",
              "      border-bottom-color: var(--fill-color);\n",
              "    }\n",
              "  }\n",
              "</style>\n",
              "\n",
              "  <script>\n",
              "    async function quickchart(key) {\n",
              "      const quickchartButtonEl =\n",
              "        document.querySelector('#' + key + ' button');\n",
              "      quickchartButtonEl.disabled = true;  // To prevent multiple clicks.\n",
              "      quickchartButtonEl.classList.add('colab-df-spinner');\n",
              "      try {\n",
              "        const charts = await google.colab.kernel.invokeFunction(\n",
              "            'suggestCharts', [key], {});\n",
              "      } catch (error) {\n",
              "        console.error('Error during call to suggestCharts:', error);\n",
              "      }\n",
              "      quickchartButtonEl.classList.remove('colab-df-spinner');\n",
              "      quickchartButtonEl.classList.add('colab-df-quickchart-complete');\n",
              "    }\n",
              "    (() => {\n",
              "      let quickchartButtonEl =\n",
              "        document.querySelector('#df-c1dc567f-72b0-43c2-b2fd-9a5568f7c780 button');\n",
              "      quickchartButtonEl.style.display =\n",
              "        google.colab.kernel.accessAllowed ? 'block' : 'none';\n",
              "    })();\n",
              "  </script>\n",
              "</div>\n",
              "\n",
              "  <div id=\"id_0ba86ee9-2bb2-4d40-9da7-72f67811ee11\">\n",
              "    <style>\n",
              "      .colab-df-generate {\n",
              "        background-color: #E8F0FE;\n",
              "        border: none;\n",
              "        border-radius: 50%;\n",
              "        cursor: pointer;\n",
              "        display: none;\n",
              "        fill: #1967D2;\n",
              "        height: 32px;\n",
              "        padding: 0 0 0 0;\n",
              "        width: 32px;\n",
              "      }\n",
              "\n",
              "      .colab-df-generate:hover {\n",
              "        background-color: #E2EBFA;\n",
              "        box-shadow: 0px 1px 2px rgba(60, 64, 67, 0.3), 0px 1px 3px 1px rgba(60, 64, 67, 0.15);\n",
              "        fill: #174EA6;\n",
              "      }\n",
              "\n",
              "      [theme=dark] .colab-df-generate {\n",
              "        background-color: #3B4455;\n",
              "        fill: #D2E3FC;\n",
              "      }\n",
              "\n",
              "      [theme=dark] .colab-df-generate:hover {\n",
              "        background-color: #434B5C;\n",
              "        box-shadow: 0px 1px 3px 1px rgba(0, 0, 0, 0.15);\n",
              "        filter: drop-shadow(0px 1px 2px rgba(0, 0, 0, 0.3));\n",
              "        fill: #FFFFFF;\n",
              "      }\n",
              "    </style>\n",
              "    <button class=\"colab-df-generate\" onclick=\"generateWithVariable('df')\"\n",
              "            title=\"Generate code using this dataframe.\"\n",
              "            style=\"display:none;\">\n",
              "\n",
              "  <svg xmlns=\"http://www.w3.org/2000/svg\" height=\"24px\"viewBox=\"0 0 24 24\"\n",
              "       width=\"24px\">\n",
              "    <path d=\"M7,19H8.4L18.45,9,17,7.55,7,17.6ZM5,21V16.75L18.45,3.32a2,2,0,0,1,2.83,0l1.4,1.43a1.91,1.91,0,0,1,.58,1.4,1.91,1.91,0,0,1-.58,1.4L9.25,21ZM18.45,9,17,7.55Zm-12,3A5.31,5.31,0,0,0,4.9,8.1,5.31,5.31,0,0,0,1,6.5,5.31,5.31,0,0,0,4.9,4.9,5.31,5.31,0,0,0,6.5,1,5.31,5.31,0,0,0,8.1,4.9,5.31,5.31,0,0,0,12,6.5,5.46,5.46,0,0,0,6.5,12Z\"/>\n",
              "  </svg>\n",
              "    </button>\n",
              "    <script>\n",
              "      (() => {\n",
              "      const buttonEl =\n",
              "        document.querySelector('#id_0ba86ee9-2bb2-4d40-9da7-72f67811ee11 button.colab-df-generate');\n",
              "      buttonEl.style.display =\n",
              "        google.colab.kernel.accessAllowed ? 'block' : 'none';\n",
              "\n",
              "      buttonEl.onclick = () => {\n",
              "        google.colab.notebook.generateWithVariable('df');\n",
              "      }\n",
              "      })();\n",
              "    </script>\n",
              "  </div>\n",
              "\n",
              "    </div>\n",
              "  </div>\n"
            ],
            "application/vnd.google.colaboratory.intrinsic+json": {
              "type": "dataframe",
              "variable_name": "df",
              "summary": "{\n  \"name\": \"df\",\n  \"rows\": 3000,\n  \"fields\": [\n    {\n      \"column\": \"longitude\",\n      \"properties\": {\n        \"dtype\": \"number\",\n        \"std\": 1.9949362939550161,\n        \"min\": -124.18,\n        \"max\": -114.49,\n        \"num_unique_values\": 607,\n        \"samples\": [\n          -121.15,\n          -121.46,\n          -121.02\n        ],\n        \"semantic_type\": \"\",\n        \"description\": \"\"\n      }\n    },\n    {\n      \"column\": \"latitude\",\n      \"properties\": {\n        \"dtype\": \"number\",\n        \"std\": 2.1296695233438325,\n        \"min\": 32.56,\n        \"max\": 41.92,\n        \"num_unique_values\": 587,\n        \"samples\": [\n          40.17,\n          33.69,\n          39.61\n        ],\n        \"semantic_type\": \"\",\n        \"description\": \"\"\n      }\n    },\n    {\n      \"column\": \"housing_median_age\",\n      \"properties\": {\n        \"dtype\": \"number\",\n        \"std\": 12.555395554955755,\n        \"min\": 1.0,\n        \"max\": 52.0,\n        \"num_unique_values\": 52,\n        \"samples\": [\n          14.0,\n          49.0,\n          7.0\n        ],\n        \"semantic_type\": \"\",\n        \"description\": \"\"\n      }\n    },\n    {\n      \"column\": \"total_rooms\",\n      \"properties\": {\n        \"dtype\": \"number\",\n        \"std\": 2155.59333162558,\n        \"min\": 6.0,\n        \"max\": 30450.0,\n        \"num_unique_values\": 2215,\n        \"samples\": [\n          1961.0,\n          1807.0,\n          680.0\n        ],\n        \"semantic_type\": \"\",\n        \"description\": \"\"\n      }\n    },\n    {\n      \"column\": \"total_bedrooms\",\n      \"properties\": {\n        \"dtype\": \"number\",\n        \"std\": 415.6543681363232,\n        \"min\": 2.0,\n        \"max\": 5419.0,\n        \"num_unique_values\": 1055,\n        \"samples\": [\n          532.0,\n          764.0,\n          2162.0\n        ],\n        \"semantic_type\": \"\",\n        \"description\": \"\"\n      }\n    },\n    {\n      \"column\": \"population\",\n      \"properties\": {\n        \"dtype\": \"number\",\n        \"std\": 1030.5430124122422,\n        \"min\": 5.0,\n        \"max\": 11935.0,\n        \"num_unique_values\": 1802,\n        \"samples\": [\n          947.0,\n          1140.0,\n          2019.0\n        ],\n        \"semantic_type\": \"\",\n        \"description\": \"\"\n      }\n    },\n    {\n      \"column\": \"households\",\n      \"properties\": {\n        \"dtype\": \"number\",\n        \"std\": 365.42270980552604,\n        \"min\": 2.0,\n        \"max\": 4930.0,\n        \"num_unique_values\": 1026,\n        \"samples\": [\n          646.0,\n          629.0,\n          504.0\n        ],\n        \"semantic_type\": \"\",\n        \"description\": \"\"\n      }\n    },\n    {\n      \"column\": \"median_income\",\n      \"properties\": {\n        \"dtype\": \"number\",\n        \"std\": 1.854511729691481,\n        \"min\": 0.4999,\n        \"max\": 15.0001,\n        \"num_unique_values\": 2578,\n        \"samples\": [\n          1.725,\n          0.7403,\n          2.6964\n        ],\n        \"semantic_type\": \"\",\n        \"description\": \"\"\n      }\n    },\n    {\n      \"column\": \"median_house_value\",\n      \"properties\": {\n        \"dtype\": \"number\",\n        \"std\": 113119.68746964433,\n        \"min\": 22500.0,\n        \"max\": 500001.0,\n        \"num_unique_values\": 1784,\n        \"samples\": [\n          71900.0,\n          63000.0,\n          115800.0\n        ],\n        \"semantic_type\": \"\",\n        \"description\": \"\"\n      }\n    }\n  ]\n}"
            }
          },
          "metadata": {},
          "execution_count": 137
        }
      ]
    },
    {
      "cell_type": "code",
      "source": [
        "type(df)"
      ],
      "metadata": {
        "colab": {
          "base_uri": "https://localhost:8080/",
          "height": 203
        },
        "id": "f3xnBWlTHHWi",
        "outputId": "efa4cf32-cb8b-4595-b14d-57b204d7b7c8"
      },
      "execution_count": null,
      "outputs": [
        {
          "output_type": "execute_result",
          "data": {
            "text/plain": [
              "pandas.core.frame.DataFrame"
            ],
            "text/html": [
              "<div style=\"max-width:800px; border: 1px solid var(--colab-border-color);\"><style>\n",
              "      pre.function-repr-contents {\n",
              "        overflow-x: auto;\n",
              "        padding: 8px 12px;\n",
              "        max-height: 500px;\n",
              "      }\n",
              "\n",
              "      pre.function-repr-contents.function-repr-contents-collapsed {\n",
              "        cursor: pointer;\n",
              "        max-height: 100px;\n",
              "      }\n",
              "    </style>\n",
              "    <pre style=\"white-space: initial; background:\n",
              "         var(--colab-secondary-surface-color); padding: 8px 12px;\n",
              "         border-bottom: 1px solid var(--colab-border-color);\"><b>pandas.core.frame.DataFrame</b><br/>def __init__(data=None, index: Axes | None=None, columns: Axes | None=None, dtype: Dtype | None=None, copy: bool | None=None) -&gt; None</pre><pre class=\"function-repr-contents function-repr-contents-collapsed\" style=\"\"><a class=\"filepath\" style=\"display:none\" href=\"#\">/usr/local/lib/python3.11/dist-packages/pandas/core/frame.py</a>Two-dimensional, size-mutable, potentially heterogeneous tabular data.\n",
              "\n",
              "Data structure also contains labeled axes (rows and columns).\n",
              "Arithmetic operations align on both row and column labels. Can be\n",
              "thought of as a dict-like container for Series objects. The primary\n",
              "pandas data structure.\n",
              "\n",
              "Parameters\n",
              "----------\n",
              "data : ndarray (structured or homogeneous), Iterable, dict, or DataFrame\n",
              "    Dict can contain Series, arrays, constants, dataclass or list-like objects. If\n",
              "    data is a dict, column order follows insertion-order. If a dict contains Series\n",
              "    which have an index defined, it is aligned by its index. This alignment also\n",
              "    occurs if data is a Series or a DataFrame itself. Alignment is done on\n",
              "    Series/DataFrame inputs.\n",
              "\n",
              "    If data is a list of dicts, column order follows insertion-order.\n",
              "\n",
              "index : Index or array-like\n",
              "    Index to use for resulting frame. Will default to RangeIndex if\n",
              "    no indexing information part of input data and no index provided.\n",
              "columns : Index or array-like\n",
              "    Column labels to use for resulting frame when data does not have them,\n",
              "    defaulting to RangeIndex(0, 1, 2, ..., n). If data contains column labels,\n",
              "    will perform column selection instead.\n",
              "dtype : dtype, default None\n",
              "    Data type to force. Only a single dtype is allowed. If None, infer.\n",
              "copy : bool or None, default None\n",
              "    Copy data from inputs.\n",
              "    For dict data, the default of None behaves like ``copy=True``.  For DataFrame\n",
              "    or 2d ndarray input, the default of None behaves like ``copy=False``.\n",
              "    If data is a dict containing one or more Series (possibly of different dtypes),\n",
              "    ``copy=False`` will ensure that these inputs are not copied.\n",
              "\n",
              "    .. versionchanged:: 1.3.0\n",
              "\n",
              "See Also\n",
              "--------\n",
              "DataFrame.from_records : Constructor from tuples, also record arrays.\n",
              "DataFrame.from_dict : From dicts of Series, arrays, or dicts.\n",
              "read_csv : Read a comma-separated values (csv) file into DataFrame.\n",
              "read_table : Read general delimited file into DataFrame.\n",
              "read_clipboard : Read text from clipboard into DataFrame.\n",
              "\n",
              "Notes\n",
              "-----\n",
              "Please reference the :ref:`User Guide &lt;basics.dataframe&gt;` for more information.\n",
              "\n",
              "Examples\n",
              "--------\n",
              "Constructing DataFrame from a dictionary.\n",
              "\n",
              "&gt;&gt;&gt; d = {&#x27;col1&#x27;: [1, 2], &#x27;col2&#x27;: [3, 4]}\n",
              "&gt;&gt;&gt; df = pd.DataFrame(data=d)\n",
              "&gt;&gt;&gt; df\n",
              "   col1  col2\n",
              "0     1     3\n",
              "1     2     4\n",
              "\n",
              "Notice that the inferred dtype is int64.\n",
              "\n",
              "&gt;&gt;&gt; df.dtypes\n",
              "col1    int64\n",
              "col2    int64\n",
              "dtype: object\n",
              "\n",
              "To enforce a single dtype:\n",
              "\n",
              "&gt;&gt;&gt; df = pd.DataFrame(data=d, dtype=np.int8)\n",
              "&gt;&gt;&gt; df.dtypes\n",
              "col1    int8\n",
              "col2    int8\n",
              "dtype: object\n",
              "\n",
              "Constructing DataFrame from a dictionary including Series:\n",
              "\n",
              "&gt;&gt;&gt; d = {&#x27;col1&#x27;: [0, 1, 2, 3], &#x27;col2&#x27;: pd.Series([2, 3], index=[2, 3])}\n",
              "&gt;&gt;&gt; pd.DataFrame(data=d, index=[0, 1, 2, 3])\n",
              "   col1  col2\n",
              "0     0   NaN\n",
              "1     1   NaN\n",
              "2     2   2.0\n",
              "3     3   3.0\n",
              "\n",
              "Constructing DataFrame from numpy ndarray:\n",
              "\n",
              "&gt;&gt;&gt; df2 = pd.DataFrame(np.array([[1, 2, 3], [4, 5, 6], [7, 8, 9]]),\n",
              "...                    columns=[&#x27;a&#x27;, &#x27;b&#x27;, &#x27;c&#x27;])\n",
              "&gt;&gt;&gt; df2\n",
              "   a  b  c\n",
              "0  1  2  3\n",
              "1  4  5  6\n",
              "2  7  8  9\n",
              "\n",
              "Constructing DataFrame from a numpy ndarray that has labeled columns:\n",
              "\n",
              "&gt;&gt;&gt; data = np.array([(1, 2, 3), (4, 5, 6), (7, 8, 9)],\n",
              "...                 dtype=[(&quot;a&quot;, &quot;i4&quot;), (&quot;b&quot;, &quot;i4&quot;), (&quot;c&quot;, &quot;i4&quot;)])\n",
              "&gt;&gt;&gt; df3 = pd.DataFrame(data, columns=[&#x27;c&#x27;, &#x27;a&#x27;])\n",
              "...\n",
              "&gt;&gt;&gt; df3\n",
              "   c  a\n",
              "0  3  1\n",
              "1  6  4\n",
              "2  9  7\n",
              "\n",
              "Constructing DataFrame from dataclass:\n",
              "\n",
              "&gt;&gt;&gt; from dataclasses import make_dataclass\n",
              "&gt;&gt;&gt; Point = make_dataclass(&quot;Point&quot;, [(&quot;x&quot;, int), (&quot;y&quot;, int)])\n",
              "&gt;&gt;&gt; pd.DataFrame([Point(0, 0), Point(0, 3), Point(2, 3)])\n",
              "   x  y\n",
              "0  0  0\n",
              "1  0  3\n",
              "2  2  3\n",
              "\n",
              "Constructing DataFrame from Series/DataFrame:\n",
              "\n",
              "&gt;&gt;&gt; ser = pd.Series([1, 2, 3], index=[&quot;a&quot;, &quot;b&quot;, &quot;c&quot;])\n",
              "&gt;&gt;&gt; df = pd.DataFrame(data=ser, index=[&quot;a&quot;, &quot;c&quot;])\n",
              "&gt;&gt;&gt; df\n",
              "   0\n",
              "a  1\n",
              "c  3\n",
              "\n",
              "&gt;&gt;&gt; df1 = pd.DataFrame([1, 2, 3], index=[&quot;a&quot;, &quot;b&quot;, &quot;c&quot;], columns=[&quot;x&quot;])\n",
              "&gt;&gt;&gt; df2 = pd.DataFrame(data=df1, index=[&quot;a&quot;, &quot;c&quot;])\n",
              "&gt;&gt;&gt; df2\n",
              "   x\n",
              "a  1\n",
              "c  3</pre>\n",
              "      <script>\n",
              "      if (google.colab.kernel.accessAllowed && google.colab.files && google.colab.files.view) {\n",
              "        for (const element of document.querySelectorAll('.filepath')) {\n",
              "          element.style.display = 'block'\n",
              "          element.onclick = (event) => {\n",
              "            event.preventDefault();\n",
              "            event.stopPropagation();\n",
              "            google.colab.files.view(element.textContent, 509);\n",
              "          };\n",
              "        }\n",
              "      }\n",
              "      for (const element of document.querySelectorAll('.function-repr-contents')) {\n",
              "        element.onclick = (event) => {\n",
              "          event.preventDefault();\n",
              "          event.stopPropagation();\n",
              "          element.classList.toggle('function-repr-contents-collapsed');\n",
              "        };\n",
              "      }\n",
              "      </script>\n",
              "      </div>"
            ]
          },
          "metadata": {},
          "execution_count": 138
        }
      ]
    },
    {
      "cell_type": "markdown",
      "source": [
        "เซฟไฟล์ CSV จาก DataFrame"
      ],
      "metadata": {
        "id": "Q2-YKDoDUHkU"
      }
    },
    {
      "cell_type": "code",
      "source": [
        "df.to_csv(\"new_data.csv\")"
      ],
      "metadata": {
        "id": "lKGayYQ4UKwm"
      },
      "execution_count": null,
      "outputs": []
    },
    {
      "cell_type": "markdown",
      "source": [
        "# JSON\n",
        "\n",
        "ดับเบิลคลิก (หรือกด Enter) เพื่อแก้ไข\n",
        "\n",
        "JAON dump = export JSON\n"
      ],
      "metadata": {
        "id": "IKK1xt-UUXTC"
      }
    },
    {
      "cell_type": "code",
      "source": [
        "grade"
      ],
      "metadata": {
        "colab": {
          "base_uri": "https://localhost:8080/"
        },
        "id": "TBgwSUZfU1Vg",
        "outputId": "459d50bc-35e2-4f5d-deeb-45f11e5973af"
      },
      "execution_count": null,
      "outputs": [
        {
          "output_type": "execute_result",
          "data": {
            "text/plain": [
              "{'A': 80, 'B': 70, 'C': 60, 'D': 50, 'B+': 75}"
            ]
          },
          "metadata": {},
          "execution_count": 79
        }
      ]
    },
    {
      "cell_type": "code",
      "source": [
        "import json\n",
        "json.dumps(grade)"
      ],
      "metadata": {
        "colab": {
          "base_uri": "https://localhost:8080/",
          "height": 35
        },
        "id": "sGTZPpCRVBqF",
        "outputId": "4de7263b-d290-4343-b6d7-3cf4f71b3046"
      },
      "execution_count": null,
      "outputs": [
        {
          "output_type": "execute_result",
          "data": {
            "text/plain": [
              "'{\"A\": 80, \"B\": 70, \"C\": 60, \"D\": 50, \"B+\": 75}'"
            ],
            "application/vnd.google.colaboratory.intrinsic+json": {
              "type": "string"
            }
          },
          "metadata": {},
          "execution_count": 80
        }
      ]
    },
    {
      "cell_type": "code",
      "source": [
        "type(json.dumps(grade))"
      ],
      "metadata": {
        "colab": {
          "base_uri": "https://localhost:8080/"
        },
        "id": "HYXHUEjhVaYD",
        "outputId": "7654ac0a-3dbc-4473-a756-6985176fbab2"
      },
      "execution_count": null,
      "outputs": [
        {
          "output_type": "execute_result",
          "data": {
            "text/plain": [
              "str"
            ]
          },
          "metadata": {},
          "execution_count": 81
        }
      ]
    },
    {
      "cell_type": "code",
      "source": [
        "#Save to output file grade.json\n",
        "json.dump(grade, open(\"grade.json\", \"w\"))"
      ],
      "metadata": {
        "id": "4Jr3zHvPVsXu"
      },
      "execution_count": null,
      "outputs": []
    },
    {
      "cell_type": "markdown",
      "source": [
        " JSON load = import JSON"
      ],
      "metadata": {
        "id": "4wm7bu9mV-MK"
      }
    },
    {
      "cell_type": "code",
      "source": [
        "students = json.loads('{\"student1\": \"Perth\", \"student2\": \"Fon\"}')\n",
        "students"
      ],
      "metadata": {
        "colab": {
          "base_uri": "https://localhost:8080/"
        },
        "id": "n-Y0L-5hWEY5",
        "outputId": "892288b1-e5d8-4782-8c3d-78e57ecd6663"
      },
      "execution_count": null,
      "outputs": [
        {
          "output_type": "execute_result",
          "data": {
            "text/plain": [
              "{'student1': 'Perth', 'student2': 'Fon'}"
            ]
          },
          "metadata": {},
          "execution_count": 141
        }
      ]
    },
    {
      "cell_type": "code",
      "source": [
        "type(students)"
      ],
      "metadata": {
        "colab": {
          "base_uri": "https://localhost:8080/"
        },
        "id": "OgUTAt7RHl7l",
        "outputId": "8fe46227-1b87-4bec-adf2-8508e44644d5"
      },
      "execution_count": null,
      "outputs": [
        {
          "output_type": "execute_result",
          "data": {
            "text/plain": [
              "dict"
            ]
          },
          "metadata": {},
          "execution_count": 142
        }
      ]
    }
  ]
}